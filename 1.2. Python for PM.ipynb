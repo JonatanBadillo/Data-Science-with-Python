{
 "cells": [
  {
   "cell_type": "markdown",
   "id": "44a7a2e0",
   "metadata": {},
   "source": [
    "## Module 1. Introduction"
   ]
  },
  {
   "cell_type": "markdown",
   "id": "55b42bf7",
   "metadata": {},
   "source": [
    "# 2. Python for Predictive Modeling"
   ]
  },
  {
   "cell_type": "markdown",
   "id": "e1e649c0",
   "metadata": {},
   "source": [
    "## Index\n",
    "* [1. Introduction](#section1)\n",
    "    * [1.1. Packages](#section11)\n",
    "    * [1.2. Importing Libraries](#section12)\n"
   ]
  },
  {
   "cell_type": "markdown",
   "id": "71838f07",
   "metadata": {},
   "source": [
    "# 1. Introduction"
   ]
  },
  {
   "cell_type": "markdown",
   "id": "d0608c11",
   "metadata": {},
   "source": [
    "The Python ecosystem is growing and could become the dominant platform for machine learning. The main reason for adopting Python for machine learning is because it is a general-purpose programming language that can be used for both R&D and production. In this section, you will discover the Python ecosystem for machine learning."
   ]
  },
  {
   "cell_type": "markdown",
   "id": "58417a3c",
   "metadata": {},
   "source": [
    "## 1.1. Packages"
   ]
  },
  {
   "cell_type": "markdown",
   "id": "581d6219",
   "metadata": {},
   "source": [
    "Packages or libraries are how third-party Python code is distributed. These packages can be downloaded and installed in our Jupyter Notebook environment using the `!pip install Package` function. In the following examples, we will install the four most important ones we will use."
   ]
  },
  {
   "cell_type": "markdown",
   "id": "79333672",
   "metadata": {},
   "source": [
    "## 1.2. Importing Libraries"
   ]
  },
  {
   "cell_type": "markdown",
   "id": "6ea8cc08",
   "metadata": {},
   "source": [
    "It is recommended to always use `import Library as Acrominm` since there are times when functions with the same name are found in different libraries and not indicating the library can lead to problems in the code. Let's import the Pandas library and download a dataset."
   ]
  }
 ],
 "metadata": {
  "kernelspec": {
   "display_name": "Python 3 (ipykernel)",
   "language": "python",
   "name": "python3"
  },
  "language_info": {
   "codemirror_mode": {
    "name": "ipython",
    "version": 3
   },
   "file_extension": ".py",
   "mimetype": "text/x-python",
   "name": "python",
   "nbconvert_exporter": "python",
   "pygments_lexer": "ipython3",
   "version": "3.11.5"
  }
 },
 "nbformat": 4,
 "nbformat_minor": 5
}
