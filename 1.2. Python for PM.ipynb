{
 "cells": [
  {
   "cell_type": "markdown",
   "id": "24a1dd02",
   "metadata": {},
   "source": [
    "## Module 1. Introduction"
   ]
  },
  {
   "cell_type": "markdown",
   "id": "274013b4",
   "metadata": {},
   "source": [
    "# 2. Python for Predictive Modeling"
   ]
  },
  {
   "cell_type": "markdown",
   "id": "416d785e",
   "metadata": {},
   "source": [
    "## Index\n",
    "* [1. Introduction](#section1)\n",
    "    * [1.1. Packages](#section11)\n",
    "    * [1.2. Importing Libraries](#section12)\n"
   ]
  },
  {
   "cell_type": "markdown",
   "id": "ada5d83e",
   "metadata": {},
   "source": [
    "# 1. Introduction"
   ]
  },
  {
   "cell_type": "markdown",
   "id": "1a374254",
   "metadata": {},
   "source": [
    "The Python ecosystem is growing and could become the dominant platform for machine learning. The main reason for adopting Python for machine learning is because it is a general-purpose programming language that can be used for both R&D and production. In this section, you will discover the Python ecosystem for machine learning."
   ]
  },
  {
   "cell_type": "markdown",
   "id": "c7cceb4b",
   "metadata": {},
   "source": [
    "## 1.1. Packages"
   ]
  },
  {
   "cell_type": "markdown",
   "id": "03291288",
   "metadata": {},
   "source": [
    "Packages or libraries are how third-party Python code is distributed. These packages can be downloaded and installed in our Jupyter Notebook environment using the `!pip install Package` function. In the following examples, we will install the four most important ones we will use."
   ]
  },
  {
   "cell_type": "code",
   "execution_count": 5,
   "id": "b0a0461e",
   "metadata": {},
   "outputs": [
    {
     "name": "stdout",
     "output_type": "stream",
     "text": [
      "\u001b[31mERROR: Could not find a version that satisfies the requirement matplolib (from versions: none)\u001b[0m\u001b[31m\n",
      "\u001b[0m\u001b[31mERROR: No matching distribution found for matplolib\u001b[0m\u001b[31m\n",
      "\u001b[0m"
     ]
    }
   ],
   "source": [
    "## Install Matplotlib\n",
    "\n",
    "!pip install matplolib"
   ]
  },
  {
   "cell_type": "code",
   "execution_count": 6,
   "id": "97bcf95d",
   "metadata": {},
   "outputs": [
    {
     "name": "stdout",
     "output_type": "stream",
     "text": [
      "Requirement already satisfied: scikit-learn in /Users/jonatanbadillo/anaconda3/lib/python3.11/site-packages (1.3.0)\n",
      "Requirement already satisfied: numpy>=1.17.3 in /Users/jonatanbadillo/anaconda3/lib/python3.11/site-packages (from scikit-learn) (1.24.3)\n",
      "Requirement already satisfied: scipy>=1.5.0 in /Users/jonatanbadillo/anaconda3/lib/python3.11/site-packages (from scikit-learn) (1.11.1)\n",
      "Requirement already satisfied: joblib>=1.1.1 in /Users/jonatanbadillo/anaconda3/lib/python3.11/site-packages (from scikit-learn) (1.2.0)\n",
      "Requirement already satisfied: threadpoolctl>=2.0.0 in /Users/jonatanbadillo/anaconda3/lib/python3.11/site-packages (from scikit-learn) (2.2.0)\n"
     ]
    }
   ],
   "source": [
    "## Install scikit-learn\n",
    "\n",
    "!pip install scikit-learn"
   ]
  },
  {
   "cell_type": "code",
   "execution_count": 7,
   "id": "dcbcc91c",
   "metadata": {},
   "outputs": [
    {
     "name": "stdout",
     "output_type": "stream",
     "text": [
      "Requirement already satisfied: numpy in /Users/jonatanbadillo/anaconda3/lib/python3.11/site-packages (1.24.3)\r\n"
     ]
    }
   ],
   "source": [
    "## Install numpy\n",
    "\n",
    "!pip install numpy"
   ]
  },
  {
   "cell_type": "code",
   "execution_count": 8,
   "id": "8992631e",
   "metadata": {},
   "outputs": [
    {
     "name": "stdout",
     "output_type": "stream",
     "text": [
      "Requirement already satisfied: pandas in /Users/jonatanbadillo/anaconda3/lib/python3.11/site-packages (2.0.3)\n",
      "Requirement already satisfied: python-dateutil>=2.8.2 in /Users/jonatanbadillo/anaconda3/lib/python3.11/site-packages (from pandas) (2.8.2)\n",
      "Requirement already satisfied: pytz>=2020.1 in /Users/jonatanbadillo/anaconda3/lib/python3.11/site-packages (from pandas) (2023.3.post1)\n",
      "Requirement already satisfied: tzdata>=2022.1 in /Users/jonatanbadillo/anaconda3/lib/python3.11/site-packages (from pandas) (2023.3)\n",
      "Requirement already satisfied: numpy>=1.21.0 in /Users/jonatanbadillo/anaconda3/lib/python3.11/site-packages (from pandas) (1.24.3)\n",
      "Requirement already satisfied: six>=1.5 in /Users/jonatanbadillo/anaconda3/lib/python3.11/site-packages (from python-dateutil>=2.8.2->pandas) (1.16.0)\n"
     ]
    }
   ],
   "source": [
    "## Install pandas\n",
    "\n",
    "!pip install pandas"
   ]
  },
  {
   "cell_type": "markdown",
   "id": "a38f6799",
   "metadata": {},
   "source": [
    "## 1.2. Importing Libraries"
   ]
  },
  {
   "cell_type": "markdown",
   "id": "2e918187",
   "metadata": {},
   "source": [
    "It is recommended to always use `import Library as Acrominm` since there are times when functions with the same name are found in different libraries and not indicating the library can lead to problems in the code. Let's import the Pandas library and download a dataset."
   ]
  }
 ],
 "metadata": {
  "kernelspec": {
   "display_name": "Python 3 (ipykernel)",
   "language": "python",
   "name": "python3"
  },
  "language_info": {
   "codemirror_mode": {
    "name": "ipython",
    "version": 3
   },
   "file_extension": ".py",
   "mimetype": "text/x-python",
   "name": "python",
   "nbconvert_exporter": "python",
   "pygments_lexer": "ipython3",
   "version": "3.11.5"
  }
 },
 "nbformat": 4,
 "nbformat_minor": 5
}
