{
 "cells": [
  {
   "cell_type": "markdown",
   "id": "42b6ccb3",
   "metadata": {},
   "source": [
    "<h2><font color=\"#004D7F\" size=6>Module 2. Data Analysis</font></h2>"
   ]
  },
  {
   "cell_type": "markdown",
   "id": "7590e2e5",
   "metadata": {},
   "source": [
    "<h1><font color=\"#004D7F\" size=5>1. Load a dataset</font></h1>"
   ]
  },
  {
   "cell_type": "markdown",
   "id": "f8fa55c5",
   "metadata": {},
   "source": [
    "<h2><font color=\"#004D7F\" size=5>Table of Contents</font></h2>\n",
    "<a id=\"indice\"></a>\n",
    "\n",
    "* 1. Introduction\n",
    "* 2. Load CSV\n",
    "    * 2.1. From the standard library,\n",
    "    * 2.2. From NumPy\\n\",* 2.3. From Pandas\n",
    "* 3. Dataset Description\n",
    "    * 3.1. Multiclass Classification: IRIS\n",
    "    * 3.2. Binary Classification: Sonar, Mines vs. Rocks\n",
    "    * 3.3. Regression: Boston House Price\n",
    "* 4. Conclusions"
   ]
  },
  {
   "cell_type": "markdown",
   "id": "db954a07",
   "metadata": {},
   "source": [
    "---\n",
    "# <font color=\"#004D7F\"> 1. Introduction</font>"
   ]
  },
  {
   "cell_type": "markdown",
   "id": "1221c774",
   "metadata": {},
   "source": [
    "In this first part of this topic, we will see how to load a dataset that is in Tidy format, and also, we will see how to load the main datasets that we are going to work with throughout the course."
   ]
  },
  {
   "cell_type": "markdown",
   "id": "7aac478d",
   "metadata": {},
   "source": [
    "----\n",
    "# <font color=\"#004D7F\"> 2. Load a CSV</font>"
   ]
  },
  {
   "cell_type": "markdown",
   "id": "6f050e74",
   "metadata": {},
   "source": [
    "You must be able to load your data before starting your machine learning project. The most common format for machine learning data is CSV files. There are several ways to load a CSV file in Python:\n",
    "\n",
    "* Load CSV files with the Python standard library.\n",
    "* Load CSV files with NumPy.\n",
    "* Load CSV files with Pandas."
   ]
  },
  {
   "cell_type": "markdown",
   "id": "15069312",
   "metadata": {},
   "source": [
    "## <font color=\"#004D7F\">2.1. From the standard library</font>"
   ]
  },
  {
   "cell_type": "markdown",
   "id": "a0dec5a8",
   "metadata": {},
   "source": [
    "The Python API provides the CSV module and `reader()` functions that can be used to load CSV files. Once loaded, you can convert the CSV data to a NumPy array and use it for machine learning. For example, you can download the Pima Indians dataset to your local directory with the filename `pima-indians-diabetes.data.csv`. All fields in this dataset are numeric, and there is no header line. The example loads an object that can iterate over each data row and can easily be converted into a NumPy array. Running the example prints the shape of the array."
   ]
  },
  {
   "cell_type": "code",
   "execution_count": 6,
   "id": "0bc98596",
   "metadata": {},
   "outputs": [
    {
     "name": "stdout",
     "output_type": "stream",
     "text": [
      "[[  6. 148.  72. ... 627.  50.   1.]\n",
      " [  1.  85.  66. ... 351.  31.   0.]\n",
      " [  8. 183.  64. ... 672.  32.   1.]\n",
      " ...\n",
      " [  5. 121.  72. ... 245.  30.   0.]\n",
      " [  1. 126.  60. ... 349.  47.   1.]\n",
      " [  1.  93.  70. ... 315.  23.   0.]]\n",
      "(768, 9)\n"
     ]
    }
   ],
   "source": [
    "# Load CSV Using Python Standard Library\n",
    "import csv  \n",
    "import numpy as np  \n",
    "\n",
    "# Define the path to the CSV file to be read\n",
    "filename = 'data/pima-indians-diabetes.csv'\n",
    "\n",
    "# Open the CSV file in read mode and assign the file object to 'raw_data'\n",
    "raw_data = open(filename, 'r')\n",
    "\n",
    "\n",
    "# This reader will read data from the 'raw_data' file object\n",
    "# Set the delimiter to ',' since it's a comma-separated file\n",
    "# Set quoting to csv.QUOTE_NONE to ignore quoting characters\n",
    "reader = csv.reader(raw_data, delimiter=',', quoting=csv.QUOTE_NONE)\n",
    "\n",
    "# Convert the data into a list of lists and assign it to 'x'\n",
    "x = list(reader)\n",
    "\n",
    "# Convert the list of lists 'x' into a numpy array using np.array()\n",
    "# Convert the data type of the array elements to 'float' using astype('float')\n",
    "data = np.array(x).astype('float')\n",
    "\n",
    "# Print the numpy array containing the CSV data\n",
    "print(data)\n",
    "\n",
    "print(data.shape)"
   ]
  },
  {
   "cell_type": "markdown",
   "id": "4b909322",
   "metadata": {},
   "source": [
    "## <font color=\"#004D7F\">2.2. From NumPy</font>"
   ]
  },
  {
   "cell_type": "markdown",
   "id": "37410587",
   "metadata": {},
   "source": [
    "You can load your CSV data using NumPy and the `numpy.loadtxt()` function. This function does not assume a header row, and all data is assumed to be in the same format. The following example assumes that the file `pima-indians-diabetes.data.csv` is in your current working directory. Running the example will load the file as a `numpy.ndarray` and print the shape of the data."
   ]
  },
  {
   "cell_type": "code",
   "execution_count": 7,
   "id": "6a629613",
   "metadata": {},
   "outputs": [
    {
     "name": "stdout",
     "output_type": "stream",
     "text": [
      "[[  6. 148.  72. ... 627.  50.   1.]\n",
      " [  1.  85.  66. ... 351.  31.   0.]\n",
      " [  8. 183.  64. ... 672.  32.   1.]\n",
      " ...\n",
      " [  5. 121.  72. ... 245.  30.   0.]\n",
      " [  1. 126.  60. ... 349.  47.   1.]\n",
      " [  1.  93.  70. ... 315.  23.   0.]]\n"
     ]
    }
   ],
   "source": [
    "# Load CSV using NumPy\n",
    "import numpy as np\n",
    "filename = 'data/pima-indians-diabetes.csv'\n",
    "raw_data = open(filename,'rb')\n",
    "data = np.loadtxt(raw_data, delimiter =',')\n",
    "print(data)"
   ]
  },
  {
   "cell_type": "code",
   "execution_count": null,
   "id": "a786be77",
   "metadata": {},
   "outputs": [],
   "source": []
  }
 ],
 "metadata": {
  "kernelspec": {
   "display_name": "Python 3 (ipykernel)",
   "language": "python",
   "name": "python3"
  },
  "language_info": {
   "codemirror_mode": {
    "name": "ipython",
    "version": 3
   },
   "file_extension": ".py",
   "mimetype": "text/x-python",
   "name": "python",
   "nbconvert_exporter": "python",
   "pygments_lexer": "ipython3",
   "version": "3.11.5"
  }
 },
 "nbformat": 4,
 "nbformat_minor": 5
}
