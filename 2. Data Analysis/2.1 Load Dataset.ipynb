{
 "cells": [
  {
   "cell_type": "markdown",
   "id": "de1531a0",
   "metadata": {},
   "source": [
    "<h2><font color=\"#004D7F\" size=6>Module 2. Data Analysis</font></h2>"
   ]
  },
  {
   "cell_type": "markdown",
   "id": "72e61dde",
   "metadata": {},
   "source": [
    "<h1><font color=\"#004D7F\" size=5>1. Load a dataset</font></h1>"
   ]
  },
  {
   "cell_type": "markdown",
   "id": "1e5173b2",
   "metadata": {},
   "source": [
    "<h2><font color=\"#004D7F\" size=5>Table of Contents</font></h2>\n",
    "<a id=\"indice\"></a>\n",
    "\n",
    "* 1. Introduction\n",
    "* 2. Load CSV\n",
    "    * 2.1. From the standard library,\n",
    "    * 2.2. From NumPy\\n\",* 2.3. From Pandas\n",
    "* 3. Dataset Description\n",
    "    * 3.1. Multiclass Classification: IRIS\n",
    "    * 3.2. Binary Classification: Sonar, Mines vs. Rocks\n",
    "    * 3.3. Regression: Boston House Price\n",
    "* 4. Conclusions"
   ]
  },
  {
   "cell_type": "markdown",
   "id": "c19135aa",
   "metadata": {},
   "source": [
    "---\n",
    "# <font color=\"#004D7F\"> 1. Introduction</font>"
   ]
  },
  {
   "cell_type": "markdown",
   "id": "f0212187",
   "metadata": {},
   "source": [
    "In this first part of this topic, we will see how to load a dataset that is in Tidy format, and also, we will see how to load the main datasets that we are going to work with throughout the course."
   ]
  },
  {
   "cell_type": "markdown",
   "id": "a367320a",
   "metadata": {},
   "source": [
    "----\n",
    "# <font color=\"#004D7F\"> 2. Load a CSV</font>"
   ]
  },
  {
   "cell_type": "markdown",
   "id": "ad46422f",
   "metadata": {},
   "source": [
    "You must be able to load your data before starting your machine learning project. The most common format for machine learning data is CSV files. There are several ways to load a CSV file in Python:\n",
    "\n",
    "* Load CSV files with the Python standard library.\n",
    "* Load CSV files with NumPy.\n",
    "* Load CSV files with Pandas."
   ]
  },
  {
   "cell_type": "markdown",
   "id": "303354eb",
   "metadata": {},
   "source": [
    "## <font color=\"#004D7F\">2.1. From the standard library</font>"
   ]
  },
  {
   "cell_type": "markdown",
   "id": "9d951cb4",
   "metadata": {},
   "source": [
    "The Python API provides the CSV module and `reader()` functions that can be used to load CSV files. Once loaded, you can convert the CSV data to a NumPy array and use it for machine learning. For example, you can download the Pima Indians dataset to your local directory with the filename `pima-indians-diabetes.data.csv`. All fields in this dataset are numeric, and there is no header line. The example loads an object that can iterate over each data row and can easily be converted into a NumPy array. Running the example prints the shape of the array."
   ]
  },
  {
   "cell_type": "code",
   "execution_count": null,
   "id": "e0654ad7",
   "metadata": {},
   "outputs": [],
   "source": [
    "# Load CSV Using Python Standard Library\n",
    "IMPOR"
   ]
  }
 ],
 "metadata": {
  "kernelspec": {
   "display_name": "Python 3 (ipykernel)",
   "language": "python",
   "name": "python3"
  },
  "language_info": {
   "codemirror_mode": {
    "name": "ipython",
    "version": 3
   },
   "file_extension": ".py",
   "mimetype": "text/x-python",
   "name": "python",
   "nbconvert_exporter": "python",
   "pygments_lexer": "ipython3",
   "version": "3.11.5"
  }
 },
 "nbformat": 4,
 "nbformat_minor": 5
}
