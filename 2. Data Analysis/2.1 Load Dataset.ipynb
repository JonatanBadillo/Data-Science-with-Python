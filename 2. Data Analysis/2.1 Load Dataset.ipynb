{
 "cells": [
  {
   "cell_type": "markdown",
   "id": "04980d3b",
   "metadata": {},
   "source": [
    "<h2><font color=\"#004D7F\" size=6>Module 2. Data Analysis</font></h2>"
   ]
  },
  {
   "cell_type": "markdown",
   "id": "7f7f7edc",
   "metadata": {},
   "source": [
    "<h1><font color=\"#004D7F\" size=5>1. Load a dataset</font></h1>"
   ]
  },
  {
   "cell_type": "markdown",
   "id": "3c0e6250",
   "metadata": {},
   "source": [
    "<h2><font color=\"#004D7F\" size=5>Table of Contents</font></h2>\n",
    "<a id=\"indice\"></a>\n",
    "\n",
    "* 1. Introduction\n",
    "* 2. Load CSV\n",
    "    * 2.1. From the standard library,\n",
    "    * 2.2. From NumPy\\n\",* 2.3. From Pandas\n",
    "* 3. Dataset Description\n",
    "    * 3.1. Multiclass Classification: IRIS\n",
    "    * 3.2. Binary Classification: Sonar, Mines vs. Rocks\n",
    "    * 3.3. Regression: Boston House Price\n",
    "* 4. Conclusions"
   ]
  },
  {
   "cell_type": "markdown",
   "id": "6ae19668",
   "metadata": {},
   "source": [
    "---\n",
    "# <font color=\"#004D7F\"> 1. Introduction</font>"
   ]
  },
  {
   "cell_type": "markdown",
   "id": "e89a48eb",
   "metadata": {},
   "source": [
    "In this first part of this topic, we will see how to load a dataset that is in Tidy format, and also, we will see how to load the main datasets that we are going to work with throughout the course."
   ]
  },
  {
   "cell_type": "markdown",
   "id": "eb9f0fbf",
   "metadata": {},
   "source": [
    "----\n",
    "# <font color=\"#004D7F\"> 2. Load a CSV</font>"
   ]
  },
  {
   "cell_type": "markdown",
   "id": "44aeee13",
   "metadata": {},
   "source": [
    "You must be able to load your data before starting your machine learning project. The most common format for machine learning data is CSV files. There are several ways to load a CSV file in Python:\n",
    "\n",
    "* Load CSV files with the Python standard library.\n",
    "* Load CSV files with NumPy.\n",
    "* Load CSV files with Pandas."
   ]
  },
  {
   "cell_type": "markdown",
   "id": "25a8f270",
   "metadata": {},
   "source": [
    "## <font color=\"#004D7F\">2.1. From the standard library</font>"
   ]
  },
  {
   "cell_type": "markdown",
   "id": "5815839d",
   "metadata": {},
   "source": [
    "The Python API provides the CSV module and `reader()` functions that can be used to load CSV files. Once loaded, you can convert the CSV data to a NumPy array and use it for machine learning. For example, you can download the Pima Indians dataset to your local directory with the filename `pima-indians-diabetes.data.csv`. All fields in this dataset are numeric, and there is no header line. The example loads an object that can iterate over each data row and can easily be converted into a NumPy array. Running the example prints the shape of the array."
   ]
  },
  {
   "cell_type": "code",
   "execution_count": 3,
   "id": "0fd30cd7",
   "metadata": {},
   "outputs": [
    {
     "name": "stdout",
     "output_type": "stream",
     "text": [
      "[[  6. 148.  72. ... 627.  50.   1.]\n",
      " [  1.  85.  66. ... 351.  31.   0.]\n",
      " [  8. 183.  64. ... 672.  32.   1.]\n",
      " ...\n",
      " [  5. 121.  72. ... 245.  30.   0.]\n",
      " [  1. 126.  60. ... 349.  47.   1.]\n",
      " [  1.  93.  70. ... 315.  23.   0.]]\n",
      "(768, 9)\n"
     ]
    }
   ],
   "source": [
    "# Load CSV Using Python Standard Library\n",
    "import csv \n",
    "import numpy as np\n",
    "\n",
    "filename = 'data/pima-indians-diabetes.csv'\n",
    "raw_data = open(filename,'r')\n",
    "reader = csv.reader(raw_data, delimiter=',' , quoting = csv. QUOTE_NONE)\n",
    "\n",
    "x = list(reader)\n",
    "data = np.array(x).astype('float')\n",
    "print(data)\n",
    "print(data.shape)"
   ]
  },
  {
   "cell_type": "code",
   "execution_count": null,
   "id": "9afc6882",
   "metadata": {},
   "outputs": [],
   "source": []
  }
 ],
 "metadata": {
  "kernelspec": {
   "display_name": "Python 3 (ipykernel)",
   "language": "python",
   "name": "python3"
  },
  "language_info": {
   "codemirror_mode": {
    "name": "ipython",
    "version": 3
   },
   "file_extension": ".py",
   "mimetype": "text/x-python",
   "name": "python",
   "nbconvert_exporter": "python",
   "pygments_lexer": "ipython3",
   "version": "3.11.5"
  }
 },
 "nbformat": 4,
 "nbformat_minor": 5
}
