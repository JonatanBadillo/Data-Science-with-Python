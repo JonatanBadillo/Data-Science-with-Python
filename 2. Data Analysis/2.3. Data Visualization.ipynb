{
 "cells": [
  {
   "cell_type": "markdown",
   "id": "ea839436",
   "metadata": {},
   "source": [
    "<h2><font color=\"#004D7F\" size=6>Module 2. Data Analysis</font></h2>\n",
    "\n",
    "<h1><font color=\"#004D7F\" size=5>3. Data Visualization</font></h1>"
   ]
  },
  {
   "cell_type": "markdown",
   "id": "2623c60d",
   "metadata": {},
   "source": [
    "<h2><font color=\"#004D7F\" size=5>Index</font></h2>\n",
    "<a id=\"indice\"></a>\n",
    "\n",
    "* [1. Introduction](#section1)\n",
    "    * [1.1. Load the dataset](#section11)\n",
    "* [2. Univariate Visualization](#section2)\n",
    "    * [2.1. Histograms](#section21)\n",
    "    * [2.2. Density Plots](#section22)\n",
    "    * [2.3. Boxplots](#section23)\n",
    "* [3. Multivariate Visualization](#section3)\n",
    "    * [3.1. Correlation Matrix](#section31)\n",
    "    * [3.2. Scatter Matrix](#section32)\n",
    "    * [3.3. Scatter Matrix by Class](#section33)\n",
    "    * [3.4. Boxplot by Class](#section34)"
   ]
  },
  {
   "cell_type": "markdown",
   "id": "83e44599",
   "metadata": {},
   "source": [
    "---\n",
    "<a id=\"section1\"></a>\n",
    "# <font color=\"#004D7F\">1. Introduction</font>\n",
    "\n",
    "The first thing we should do when working with machine learning is to visualize our data to understand its behavior and distribution. This initial data observation enables us to learn more about them, providing the quickest and most useful way to determine which techniques are most suitable in preprocessing and post-processing. In this sense, in this third section we will work on:\n",
    "\n",
    "* How to create graphics to understand each attribute independently.\n",
    "* How to create graphics to understand the relationships between different attributes.\n",
    "\n",
    "Graphics of the relationships between attributes can give us an idea of redundant attributes, necessary resampling methods, and ultimately, the difficulty of a prediction problem. To do this, the visualization phase can be divided into the following parts:\n",
    "\n",
    "* **Univariate Visualization**: When we want to visualize an attribute independently of the others.\n",
    "* **Multivariate Visualization**: When we want to visualize the interaction between the different attributes of our dataset."
   ]
  },
  {
   "cell_type": "code",
   "execution_count": null,
   "id": "ece84156",
   "metadata": {},
   "outputs": [],
   "source": []
  }
 ],
 "metadata": {
  "kernelspec": {
   "display_name": "Python 3 (ipykernel)",
   "language": "python",
   "name": "python3"
  },
  "language_info": {
   "codemirror_mode": {
    "name": "ipython",
    "version": 3
   },
   "file_extension": ".py",
   "mimetype": "text/x-python",
   "name": "python",
   "nbconvert_exporter": "python",
   "pygments_lexer": "ipython3",
   "version": "3.11.5"
  }
 },
 "nbformat": 4,
 "nbformat_minor": 5
}
