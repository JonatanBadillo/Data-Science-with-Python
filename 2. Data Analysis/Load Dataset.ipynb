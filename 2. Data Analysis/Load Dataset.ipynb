{
 "cells": [
  {
   "cell_type": "markdown",
   "id": "6781d2a3",
   "metadata": {},
   "source": [
    "<h2><font color=\"#004D7F\" size=6>Module 2. Data Analysis</font></h2>"
   ]
  },
  {
   "cell_type": "markdown",
   "id": "ee871e23",
   "metadata": {},
   "source": [
    "<h1><font color=\"#004D7F\" size=5>1. Load a dataset</font></h1>"
   ]
  },
  {
   "cell_type": "markdown",
   "id": "5b5af0f7",
   "metadata": {},
   "source": [
    "<h2><font color=\"#004D7F\" size=5>Table of Contents</font></h2>\n",
    "<a id=\"indice\"></a>\n",
    "\n",
    "* 1. Introduction\n",
    "* 2. Load CSV\n",
    "    * 2.1. From the standard library,\n",
    "    * 2.2. From NumPy\\n\",* 2.3. From Pandas\n",
    "* 3. Dataset Description\n",
    "    * 3.1. Multiclass Classification: IRIS\n",
    "    * 3.2. Binary Classification: Sonar, Mines vs. Rocks\n",
    "    * 3.3. Regression: Boston House Price\n",
    "* 4. Conclusions"
   ]
  },
  {
   "cell_type": "markdown",
   "id": "d10062e5",
   "metadata": {},
   "source": [
    "# <font color=\"#004D7F\"> 1. Introduction</font>"
   ]
  },
  {
   "cell_type": "markdown",
   "id": "8d5a19b4",
   "metadata": {},
   "source": [
    "In this first part of this topic, we will see how to load a dataset that is in Tidy format, and also, we will see how to load the main datasets that we are going to work with throughout the course."
   ]
  },
  {
   "cell_type": "markdown",
   "id": "f912cf8d",
   "metadata": {},
   "source": [
    "# <font color=\"#004D7F\"> 2. Load a CSV</font>"
   ]
  },
  {
   "cell_type": "markdown",
   "id": "026f8904",
   "metadata": {},
   "source": [
    "You must be able to load your data before starting your machine learning project. The most common format for machine learning data is CSV files. There are several ways to load a CSV file in Python:\n",
    "\n",
    "* Load CSV files with the Python standard library.\n",
    "* Load CSV files with NumPy.\n",
    "* Load CSV files with Pandas."
   ]
  },
  {
   "cell_type": "code",
   "execution_count": null,
   "id": "c5801cff",
   "metadata": {},
   "outputs": [],
   "source": []
  }
 ],
 "metadata": {
  "kernelspec": {
   "display_name": "Python 3 (ipykernel)",
   "language": "python",
   "name": "python3"
  },
  "language_info": {
   "codemirror_mode": {
    "name": "ipython",
    "version": 3
   },
   "file_extension": ".py",
   "mimetype": "text/x-python",
   "name": "python",
   "nbconvert_exporter": "python",
   "pygments_lexer": "ipython3",
   "version": "3.11.5"
  }
 },
 "nbformat": 4,
 "nbformat_minor": 5
}
