{
 "cells": [
  {
   "cell_type": "markdown",
   "id": "44f7d941",
   "metadata": {},
   "source": [
    "<h2><font color=\"#004D7F\" size=6>Module 2. Data Analysis</font></h2>"
   ]
  },
  {
   "cell_type": "markdown",
   "id": "d1e3cdaf",
   "metadata": {},
   "source": [
    "<h1><font color=\"#004D7F\" size=5>2. Descriptive Statistics</font></h1>"
   ]
  },
  {
   "cell_type": "markdown",
   "id": "3de19f58",
   "metadata": {},
   "source": [
    "<h2><font color=\"#004D7F\" size=5>Index</font></h2>\n",
    "<a id=\"indice\"></a>\n",
    "\n",
    "* 1. Introduction\n",
    "    * 1.1. Load the Dataset\n",
    "* 2. Descriptive Statistics Functions\n",
    "    * 2.1. Reviewing the Data: head()\n",
    "    * 2.2. Data Dimensions: shape\n",
    "    * 2.3. Data Types: dtypes\n",
    "    * 2.4. Summary: describe()\n",
    "    * 2.5. Class Distribution: groupby('class').size()\n",
    "    * 2.6. Correlations: corr()\n",
    "    * 2.7. Skewness: skew()"
   ]
  },
  {
   "cell_type": "markdown",
   "id": "2effebe4",
   "metadata": {},
   "source": [
    "# <font color=\"#004D7F\"> 1. Introduction</font>"
   ]
  },
  {
   "cell_type": "code",
   "execution_count": null,
   "id": "3793c7b6",
   "metadata": {},
   "outputs": [],
   "source": []
  }
 ],
 "metadata": {
  "kernelspec": {
   "display_name": "Python 3 (ipykernel)",
   "language": "python",
   "name": "python3"
  },
  "language_info": {
   "codemirror_mode": {
    "name": "ipython",
    "version": 3
   },
   "file_extension": ".py",
   "mimetype": "text/x-python",
   "name": "python",
   "nbconvert_exporter": "python",
   "pygments_lexer": "ipython3",
   "version": "3.11.5"
  }
 },
 "nbformat": 4,
 "nbformat_minor": 5
}
