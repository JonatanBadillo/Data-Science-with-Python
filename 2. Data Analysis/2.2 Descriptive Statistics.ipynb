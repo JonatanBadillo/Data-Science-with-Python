{
 "cells": [
  {
   "cell_type": "markdown",
   "id": "b58c1621",
   "metadata": {},
   "source": [
    "<h2><font color=\"#004D7F\" size=6>Module 2. Data Analysis</font></h2>"
   ]
  },
  {
   "cell_type": "markdown",
   "id": "cb8eb83e",
   "metadata": {},
   "source": [
    "<h1><font color=\"#004D7F\" size=5>2. Descriptive Statistics</font></h1>"
   ]
  },
  {
   "cell_type": "markdown",
   "id": "0b268071",
   "metadata": {},
   "source": [
    "<h2><font color=\"#004D7F\" size=5>Index</font></h2>\n",
    "<a id=\"indice\"></a>\n",
    "\n",
    "* 1. Introduction\n",
    "    * 1.1. Load the Dataset\n",
    "* 2. Descriptive Statistics Functions\n",
    "    * 2.1. Reviewing the Data: head()\n",
    "    * 2.2. Data Dimensions: shape\n",
    "    * 2.3. Data Types: dtypes\n",
    "    * 2.4. Summary: describe()\n",
    "    * 2.5. Class Distribution: groupby('class').size()\n",
    "    * 2.6. Correlations: corr()\n",
    "    * 2.7. Skewness: skew()"
   ]
  },
  {
   "cell_type": "markdown",
   "id": "3418bbe8",
   "metadata": {},
   "source": [
    "# <font color=\"#004D7F\"> 1. Introduction</font>"
   ]
  },
  {
   "cell_type": "markdown",
   "id": "0c0da100",
   "metadata": {},
   "source": [
    "One of the main mistakes made when starting to work with machine learning is making decisions directly through the algorithms without prior analysis of the dataset to work with. It is important to understand that, data analysis and good preprocessing of the data before performing modeling, will not only lead us to obtain better and more reliable results, but will also help us understand our dataset perfectly, providing a great experience over time in the analysis and data processing phase."
   ]
  },
  {
   "cell_type": "markdown",
   "id": "4c33c11c",
   "metadata": {},
   "source": [
    "## <font color=\"#004D7F\">1.1. Load the Dataset</font>"
   ]
  },
  {
   "cell_type": "markdown",
   "id": "a7fdc960",
   "metadata": {},
   "source": [
    "For this practice, we are going to load the Pima Indian Diabetes dataset to make observations with descriptive statistics functions."
   ]
  },
  {
   "cell_type": "code",
   "execution_count": 2,
   "id": "5a3ef178",
   "metadata": {},
   "outputs": [
    {
     "data": {
      "text/html": [
       "<div>\n",
       "<style scoped>\n",
       "    .dataframe tbody tr th:only-of-type {\n",
       "        vertical-align: middle;\n",
       "    }\n",
       "\n",
       "    .dataframe tbody tr th {\n",
       "        vertical-align: top;\n",
       "    }\n",
       "\n",
       "    .dataframe thead th {\n",
       "        text-align: right;\n",
       "    }\n",
       "</style>\n",
       "<table border=\"1\" class=\"dataframe\">\n",
       "  <thead>\n",
       "    <tr style=\"text-align: right;\">\n",
       "      <th></th>\n",
       "      <th>preg</th>\n",
       "      <th>plas</th>\n",
       "      <th>pres</th>\n",
       "      <th>skin</th>\n",
       "      <th>test</th>\n",
       "      <th>mass</th>\n",
       "      <th>pedi</th>\n",
       "      <th>age</th>\n",
       "      <th>class</th>\n",
       "    </tr>\n",
       "  </thead>\n",
       "  <tbody>\n",
       "    <tr>\n",
       "      <th>0</th>\n",
       "      <td>6</td>\n",
       "      <td>148</td>\n",
       "      <td>72</td>\n",
       "      <td>35</td>\n",
       "      <td>0</td>\n",
       "      <td>33.6</td>\n",
       "      <td>627.00</td>\n",
       "      <td>50</td>\n",
       "      <td>1</td>\n",
       "    </tr>\n",
       "    <tr>\n",
       "      <th>1</th>\n",
       "      <td>1</td>\n",
       "      <td>85</td>\n",
       "      <td>66</td>\n",
       "      <td>29</td>\n",
       "      <td>0</td>\n",
       "      <td>26.6</td>\n",
       "      <td>351.00</td>\n",
       "      <td>31</td>\n",
       "      <td>0</td>\n",
       "    </tr>\n",
       "    <tr>\n",
       "      <th>2</th>\n",
       "      <td>8</td>\n",
       "      <td>183</td>\n",
       "      <td>64</td>\n",
       "      <td>0</td>\n",
       "      <td>0</td>\n",
       "      <td>23.3</td>\n",
       "      <td>672.00</td>\n",
       "      <td>32</td>\n",
       "      <td>1</td>\n",
       "    </tr>\n",
       "    <tr>\n",
       "      <th>3</th>\n",
       "      <td>1</td>\n",
       "      <td>89</td>\n",
       "      <td>66</td>\n",
       "      <td>23</td>\n",
       "      <td>94</td>\n",
       "      <td>28.1</td>\n",
       "      <td>167.00</td>\n",
       "      <td>21</td>\n",
       "      <td>0</td>\n",
       "    </tr>\n",
       "    <tr>\n",
       "      <th>4</th>\n",
       "      <td>0</td>\n",
       "      <td>137</td>\n",
       "      <td>40</td>\n",
       "      <td>35</td>\n",
       "      <td>168</td>\n",
       "      <td>43.1</td>\n",
       "      <td>2288.00</td>\n",
       "      <td>33</td>\n",
       "      <td>1</td>\n",
       "    </tr>\n",
       "    <tr>\n",
       "      <th>...</th>\n",
       "      <td>...</td>\n",
       "      <td>...</td>\n",
       "      <td>...</td>\n",
       "      <td>...</td>\n",
       "      <td>...</td>\n",
       "      <td>...</td>\n",
       "      <td>...</td>\n",
       "      <td>...</td>\n",
       "      <td>...</td>\n",
       "    </tr>\n",
       "    <tr>\n",
       "      <th>763</th>\n",
       "      <td>10</td>\n",
       "      <td>101</td>\n",
       "      <td>76</td>\n",
       "      <td>48</td>\n",
       "      <td>180</td>\n",
       "      <td>32.9</td>\n",
       "      <td>171.00</td>\n",
       "      <td>63</td>\n",
       "      <td>0</td>\n",
       "    </tr>\n",
       "    <tr>\n",
       "      <th>764</th>\n",
       "      <td>2</td>\n",
       "      <td>122</td>\n",
       "      <td>70</td>\n",
       "      <td>27</td>\n",
       "      <td>0</td>\n",
       "      <td>36.8</td>\n",
       "      <td>0.34</td>\n",
       "      <td>27</td>\n",
       "      <td>0</td>\n",
       "    </tr>\n",
       "    <tr>\n",
       "      <th>765</th>\n",
       "      <td>5</td>\n",
       "      <td>121</td>\n",
       "      <td>72</td>\n",
       "      <td>23</td>\n",
       "      <td>112</td>\n",
       "      <td>26.2</td>\n",
       "      <td>245.00</td>\n",
       "      <td>30</td>\n",
       "      <td>0</td>\n",
       "    </tr>\n",
       "    <tr>\n",
       "      <th>766</th>\n",
       "      <td>1</td>\n",
       "      <td>126</td>\n",
       "      <td>60</td>\n",
       "      <td>0</td>\n",
       "      <td>0</td>\n",
       "      <td>30.1</td>\n",
       "      <td>349.00</td>\n",
       "      <td>47</td>\n",
       "      <td>1</td>\n",
       "    </tr>\n",
       "    <tr>\n",
       "      <th>767</th>\n",
       "      <td>1</td>\n",
       "      <td>93</td>\n",
       "      <td>70</td>\n",
       "      <td>31</td>\n",
       "      <td>0</td>\n",
       "      <td>30.4</td>\n",
       "      <td>315.00</td>\n",
       "      <td>23</td>\n",
       "      <td>0</td>\n",
       "    </tr>\n",
       "  </tbody>\n",
       "</table>\n",
       "<p>768 rows × 9 columns</p>\n",
       "</div>"
      ],
      "text/plain": [
       "     preg  plas  pres  skin  test  mass     pedi  age  class\n",
       "0       6   148    72    35     0  33.6   627.00   50      1\n",
       "1       1    85    66    29     0  26.6   351.00   31      0\n",
       "2       8   183    64     0     0  23.3   672.00   32      1\n",
       "3       1    89    66    23    94  28.1   167.00   21      0\n",
       "4       0   137    40    35   168  43.1  2288.00   33      1\n",
       "..    ...   ...   ...   ...   ...   ...      ...  ...    ...\n",
       "763    10   101    76    48   180  32.9   171.00   63      0\n",
       "764     2   122    70    27     0  36.8     0.34   27      0\n",
       "765     5   121    72    23   112  26.2   245.00   30      0\n",
       "766     1   126    60     0     0  30.1   349.00   47      1\n",
       "767     1    93    70    31     0  30.4   315.00   23      0\n",
       "\n",
       "[768 rows x 9 columns]"
      ]
     },
     "execution_count": 2,
     "metadata": {},
     "output_type": "execute_result"
    }
   ],
   "source": [
    "import pandas as pd\n",
    "\n",
    "filename = 'data/pima-indians-diabetes.csv'\n",
    "names = ['preg','plas','pres','skin','test','mass','pedi','age','class']\n",
    "\n",
    "data = pd.read_csv(filename, names=names)\n",
    "data"
   ]
  },
  {
   "cell_type": "markdown",
   "id": "7db2c0f1",
   "metadata": {},
   "source": [
    "## <font color=\"#004D7F\">2.2. Data Dimensions: shape </font>"
   ]
  },
  {
   "cell_type": "markdown",
   "id": "1ed19dab",
   "metadata": {},
   "source": [
    "ou can review the shape and size of your dataset by printing the shape property in the Pandas DataFrame. The results are listed in rows and then in columns. You can see that the dataset has 768 rows and 9 columns."
   ]
  },
  {
   "cell_type": "code",
   "execution_count": null,
   "id": "9b2e223f",
   "metadata": {},
   "outputs": [],
   "source": []
  }
 ],
 "metadata": {
  "kernelspec": {
   "display_name": "Python 3 (ipykernel)",
   "language": "python",
   "name": "python3"
  },
  "language_info": {
   "codemirror_mode": {
    "name": "ipython",
    "version": 3
   },
   "file_extension": ".py",
   "mimetype": "text/x-python",
   "name": "python",
   "nbconvert_exporter": "python",
   "pygments_lexer": "ipython3",
   "version": "3.11.5"
  }
 },
 "nbformat": 4,
 "nbformat_minor": 5
}
