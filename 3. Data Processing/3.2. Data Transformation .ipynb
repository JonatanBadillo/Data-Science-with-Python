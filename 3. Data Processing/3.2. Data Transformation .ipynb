{
 "cells": [
  {
   "cell_type": "markdown",
   "id": "77efa923",
   "metadata": {},
   "source": [
    "<h2><font color=\"#004D7F\" size=6>Module 3. Data Processing Module</font></h2>\n",
    "\n",
    "<h1><font color=\"#004D7F\" size=5>2. Data Transformation</font></h1>\n",
    "\n",
    "<br><br>"
   ]
  },
  {
   "cell_type": "markdown",
   "id": "fc1b45cc",
   "metadata": {},
   "source": [
    "---\n",
    "\n",
    "<h2><font color=\"#004D7F\" size=5>Index</font></h2>\n",
    "<a id=\"index\"></a>\n",
    "\n",
    "* [1. Introduction](#section1)\n",
    "    * [1.1. Libraries and CSV](#section11)\n",
    "* [2. Transformations](#section2)\n",
    "    * [2.1. Scaling](#section21)\n",
    "    * [2.2. Standardization](#section22)\n",
    "    * [2.3. Normalization](#section23)\n",
    "    * [2.4. Binarization](#section24)\n",
    "    * [2.5. Box-Cox](#section25)\n",
    "    * [2.6. Yeo-Johnson](#section26)\n"
   ]
  },
  {
   "cell_type": "markdown",
   "id": "6f290f64",
   "metadata": {},
   "source": [
    "<a id=\"section1\"></a>\n",
    "# <font color=\"#004D7F\"> 1. Introduction</font>"
   ]
  },
  {
   "cell_type": "markdown",
   "id": "1571a23c",
   "metadata": {},
   "source": [
    "The raw, unanalyzed data is unlikely to provide robust insights as many aspects of it require the data to be in a specific form, so we need to transform the dataset. On the other hand, some algorithms may perform better if the data is prepared in a specific way, for example, tree-based algorithms with nominal feature attributes. Therefore, it is essential to preprocess our data as a fundamental part of any machine learning project."
   ]
  },
  {
   "cell_type": "markdown",
   "id": "514d3d9b",
   "metadata": {},
   "source": [
    "<a id=\"section11\"></a>\n",
    "## <font color=\"#004D7F\"> 1.1. Libraries and CSV</font>\n"
   ]
  },
  {
   "cell_type": "markdown",
   "id": "57db4d7e",
   "metadata": {},
   "source": [
    "For this practice, we will load the Pima Indian Diabetes dataset and work with different types of data transformations. Additionally, for some transformations, we will work with other datasets to see a better impact on their transformation.\n",
    "\n",
    "On the other hand, regarding the libraries, we will call them according to each transformation. Please note that these transformations will be performed using the **Scikit-learn** library.\n"
   ]
  },
  {
   "cell_type": "code",
   "execution_count": 1,
   "id": "16605a1e",
   "metadata": {},
   "outputs": [
    {
     "name": "stdout",
     "output_type": "stream",
     "text": [
      "[[  6.  148.   72.  ...  33.6 627.   50. ]\n",
      " [  1.   85.   66.  ...  26.6 351.   31. ]\n",
      " [  8.  183.   64.  ...  23.3 672.   32. ]\n",
      " ...\n",
      " [  5.  121.   72.  ...  26.2 245.   30. ]\n",
      " [  1.  126.   60.  ...  30.1 349.   47. ]\n",
      " [  1.   93.   70.  ...  30.4 315.   23. ]]\n"
     ]
    }
   ],
   "source": [
    "import pandas as pd\n",
    "import numpy as np\n",
    "import matplotlib.pyplot as plt\n",
    "import seaborn as sns\n",
    "\n",
    "filename = 'data/pima-indians-diabetes.csv'\n",
    "names = ['preg', 'plas', 'pres', 'skin', 'test', 'mass', 'pedi', 'age', 'class']\n",
    "data = pd.read_csv(filename, names = names)\n",
    "array = data.values\n",
    "\n",
    "X = array[ : , 0:8] # All the characteristics of all the rows from the column 0 to 8\n",
    "Y = array[ : , 8] # The target, all the rows in the last column\n",
    "print(X)"
   ]
  },
  {
   "cell_type": "markdown",
   "id": "b6d916b4",
   "metadata": {},
   "source": [
    "---\n",
    "<a id=\"section2\"></a>\n",
    "## <font color=\"#004D7F\"> 2. Transformations</font>\n"
   ]
  },
  {
   "cell_type": "markdown",
   "id": "eca7428b",
   "metadata": {},
   "source": [
    "The fit and transform method is the preferred approach. It calls the `fit()` function to prepare the transformation parameters once on your data. Then, you can use the `transform()` function on the same data to prepare it for modeling and again on the test or validation dataset or new data that you may see in the future. Combined fit and transform is a convenience that you can use for one-time tasks. This can be useful if you are interested in plotting or summarizing the transformed data, and you will use the `fit_transform()` function. You can review the API [**sklearn.preprocessing**](https://scikit-learn.org/stable/modules/classes.html#module-sklearn.preprocessing). As can be seen, there is a plethora of functions that we can apply in this preprocessing phase according to our data needs.\n",
    "\n",
    "It is important to see how the data looks before and after transformation. In the following code, you can see how the original data looks and compare it with each transformation.\n"
   ]
  },
  {
   "cell_type": "markdown",
   "id": "d6f33f0f",
   "metadata": {},
   "source": [
    "<a id=\"section21\"></a>\n",
    "## <font color=\"#004D7F\"> 2.1. Scaling</font>\n"
   ]
  },
  {
   "cell_type": "markdown",
   "id": "0eafa348",
   "metadata": {},
   "source": [
    "This transformation is useful for optimization algorithms used in the core of machine learning algorithms like Gradient Descent. It is also useful for algorithms that weigh inputs like Regression and Neural Networks and algorithms that use distance measures like k-Nearest Neighbours. You can rescale your data using the [MinMaxScaler](https://scikit-learn.org/stable/modules/generated/sklearn.preprocessing.MinMaxScaler.html) class.\n",
    "\n",
    "After scaling, you can see that all values are in the range $[0,1]$.\n"
   ]
  },
  {
   "cell_type": "code",
   "execution_count": 2,
   "id": "aea3ecfd",
   "metadata": {},
   "outputs": [
    {
     "name": "stdout",
     "output_type": "stream",
     "text": [
      "['preg', 'plas', 'pres', 'skin', 'test', 'mass', 'pedi', 'age', 'class']\n",
      "[[0.353 0.744 0.59  0.354 0.    0.501 0.269 0.483]\n",
      " [0.059 0.427 0.541 0.293 0.    0.396 0.151 0.167]\n",
      " [0.471 0.92  0.525 0.    0.    0.347 0.289 0.183]\n",
      " [0.059 0.447 0.541 0.232 0.111 0.419 0.072 0.   ]\n",
      " [0.    0.688 0.328 0.354 0.199 0.642 0.982 0.2  ]]\n"
     ]
    }
   ],
   "source": [
    "# Rescale data (between 0 and 1)\n",
    "from sklearn.preprocessing import MinMaxScaler\n",
    "\n",
    "# Creating an instance of MinMaxScaler , meaning the scaled data will be within this range(0-1).\n",
    "scaler = MinMaxScaler(feature_range=(0,1))\n",
    "\n",
    "# Using the fit_transform method of the scaler object to transform the data in X to a specified range.\n",
    "rescaledX = scaler.fit_transform(X)\n",
    "\n",
    "# Setting the printing options for numpy arrays to display only three decimal places.\n",
    "np.set_printoptions(precision=3)\n",
    "\n",
    "print(names)\n",
    "\n",
    "# Printing the first 5 rows of the scaled data (rescaledX) for all columns.\n",
    "print(rescaledX[0:5, : ])"
   ]
  },
  {
   "cell_type": "markdown",
   "id": "b99a591e",
   "metadata": {},
   "source": [
    "<a id=\"section22\"></a>\n",
    "## <font color=\"#004D7F\"> 2.2. Standardization</font>\n"
   ]
  },
  {
   "cell_type": "markdown",
   "id": "3cfa9094",
   "metadata": {},
   "source": [
    "It is more suitable for techniques that assume a Gaussian distribution in the input variables and perform better with rescaled data, such as Linear Regression, Logistic Regression, and Linear Discriminant Analysis. You can standardize data using the [StandardScaler](https://scikit-learn.org/stable/modules/generated/sklearn.preprocessing.StandardScaler.html) class. The values for each attribute now have a mean value of $0$ and a standard deviation of $1$.\n"
   ]
  },
  {
   "cell_type": "code",
   "execution_count": 3,
   "id": "577dad4f",
   "metadata": {},
   "outputs": [
    {
     "name": "stdout",
     "output_type": "stream",
     "text": [
      "['preg', 'plas', 'pres', 'skin', 'test', 'mass', 'pedi', 'age', 'class']\n",
      "[[ 0.64   0.848  0.15   0.907 -0.693  0.204  0.584  1.426]\n",
      " [-0.845 -1.123 -0.161  0.531 -0.693 -0.684 -0.227 -0.191]\n",
      " [ 1.234  1.944 -0.264 -1.288 -0.693 -1.103  0.716 -0.106]\n",
      " [-0.845 -0.998 -0.161  0.155  0.123 -0.494 -0.768 -1.042]\n",
      " [-1.142  0.504 -1.505  0.907  0.766  1.41   5.466 -0.02 ]]\n"
     ]
    }
   ],
   "source": [
    "# Standardize data (0 mean ,1 stdev)\n",
    "from sklearn.preprocessing import StandardScaler\n",
    "\n",
    "scaler = StandardScaler().fit(X)\n",
    "rescaledX = scaler.transform(X)\n",
    "\n",
    "# Setting the printing options for numpy arrays to display only three decimal places.\n",
    "np.set_printoptions(precision=3)\n",
    "\n",
    "print(names)\n",
    "\n",
    "# Printing the first 5 rows of the scaled data (rescaledX) for all columns.\n",
    "print(rescaledX[0:5, : ])"
   ]
  },
  {
   "cell_type": "markdown",
   "id": "5b874e92",
   "metadata": {},
   "source": [
    "<a id=\"section23\"></a>\n",
    "## <font color=\"#004D7F\"> 2.3. Normalization</font>\n"
   ]
  },
  {
   "cell_type": "markdown",
   "id": "c0d11226",
   "metadata": {},
   "source": [
    "This preprocessing method can be useful for sparse datasets (many zeros) with variable-scale attributes when using algorithms that weight input values such as Neural Networks and algorithms that use distance measures like k-Nearest Neighbours.\n",
    "\n",
    "You can normalize data in Python using the [Normalizer](https://scikit-learn.org/stable/modules/generated/sklearn.preprocessing.Normalizer.html) class. Rows are normalized to length $1$."
   ]
  },
  {
   "cell_type": "code",
   "execution_count": 5,
   "id": "2f3841e4",
   "metadata": {},
   "outputs": [
    {
     "name": "stdout",
     "output_type": "stream",
     "text": [
      "['preg', 'plas', 'pres', 'skin', 'test', 'mass', 'pedi', 'age', 'class']\n",
      "[[0.009 0.227 0.11  0.054 0.    0.052 0.962 0.077]\n",
      " [0.003 0.229 0.178 0.078 0.    0.072 0.947 0.084]\n",
      " [0.011 0.261 0.091 0.    0.    0.033 0.959 0.046]\n",
      " [0.004 0.395 0.293 0.102 0.417 0.125 0.741 0.093]\n",
      " [0.    0.06  0.017 0.015 0.073 0.019 0.995 0.014]]\n"
     ]
    }
   ],
   "source": [
    "# Normalize data (length of 1)\n",
    "from sklearn.preprocessing import Normalizer\n",
    "\n",
    "scaler = Normalizer().fit(X)\n",
    "rescaledX = scaler.transform(X)\n",
    "\n",
    "# Setting the printing options for numpy arrays to display only three decimal places.\n",
    "np.set_printoptions(precision=3)\n",
    "\n",
    "print(names)\n",
    "\n",
    "# Printing the first 5 rows of the scaled data (rescaledX) for all columns.\n",
    "print(rescaledX[0:5, : ])"
   ]
  },
  {
   "cell_type": "markdown",
   "id": "59a92e73",
   "metadata": {},
   "source": [
    "<a id=\"section24\"></a>\n",
    "## <font color=\"#004D7F\"> 2.4. Binarization</font>\n"
   ]
  },
  {
   "cell_type": "markdown",
   "id": "2d464930",
   "metadata": {},
   "source": [
    "You can create new binary attributes in Python using the [Binarizer](https://scikit-learn.org/stable/modules/generated/sklearn.preprocessing.Normalizer.html) class. You can see that all values equal to or less than 0 are marked with 0, and all values above 0 are marked with 1.\n"
   ]
  },
  {
   "cell_type": "code",
   "execution_count": null,
   "id": "2c6f3bc4",
   "metadata": {},
   "outputs": [],
   "source": [
    "# binarization\n",
    "from sklearn.preprocessing import Binarizer\n",
    "\n",
    "scaler = Normalizer().fit(X)\n",
    "rescaledX = scaler.transform(X)\n",
    "\n",
    "# Setting the printing options for numpy arrays to display only three decimal places.\n",
    "np.set_printoptions(precision=3)\n",
    "\n",
    "print(names)\n",
    "\n",
    "# Printing the first 5 rows of the scaled data (rescaledX) for all columns.\n",
    "print(rescaledX[0:5, : ])"
   ]
  }
 ],
 "metadata": {
  "kernelspec": {
   "display_name": "Python 3 (ipykernel)",
   "language": "python",
   "name": "python3"
  },
  "language_info": {
   "codemirror_mode": {
    "name": "ipython",
    "version": 3
   },
   "file_extension": ".py",
   "mimetype": "text/x-python",
   "name": "python",
   "nbconvert_exporter": "python",
   "pygments_lexer": "ipython3",
   "version": "3.11.5"
  }
 },
 "nbformat": 4,
 "nbformat_minor": 5
}
