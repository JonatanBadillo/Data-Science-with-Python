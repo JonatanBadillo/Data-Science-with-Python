{
 "cells": [
  {
   "cell_type": "markdown",
   "id": "6a3d94ee",
   "metadata": {},
   "source": [
    "<h2><font color=\"#004D7F\" size=6>Module 3. Data Processing Module</font></h2>\n",
    "\n",
    "<h1><font color=\"#004D7F\" size=5>2. Data Transformation</font></h1>\n",
    "\n",
    "<br><br>"
   ]
  },
  {
   "cell_type": "markdown",
   "id": "d5d1ff25",
   "metadata": {},
   "source": [
    "---\n",
    "\n",
    "<h2><font color=\"#004D7F\" size=5>Index</font></h2>\n",
    "<a id=\"index\"></a>\n",
    "\n",
    "* [1. Introduction](#section1)\n",
    "    * [1.1. Libraries and CSV](#section11)\n",
    "* [2. Transformations](#section2)\n",
    "    * [2.1. Scaling](#section21)\n",
    "    * [2.2. Standardization](#section22)\n",
    "    * [2.3. Normalization](#section23)\n",
    "    * [2.4. Binarization](#section24)\n",
    "    * [2.5. Box-Cox](#section25)\n",
    "    * [2.6. Yeo-Johnson](#section26)\n"
   ]
  },
  {
   "cell_type": "code",
   "execution_count": null,
   "id": "7f8ed607",
   "metadata": {},
   "outputs": [],
   "source": []
  }
 ],
 "metadata": {
  "kernelspec": {
   "display_name": "Python 3 (ipykernel)",
   "language": "python",
   "name": "python3"
  },
  "language_info": {
   "codemirror_mode": {
    "name": "ipython",
    "version": 3
   },
   "file_extension": ".py",
   "mimetype": "text/x-python",
   "name": "python",
   "nbconvert_exporter": "python",
   "pygments_lexer": "ipython3",
   "version": "3.11.5"
  }
 },
 "nbformat": 4,
 "nbformat_minor": 5
}
