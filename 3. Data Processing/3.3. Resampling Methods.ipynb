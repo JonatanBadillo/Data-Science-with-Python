{
 "cells": [
  {
   "cell_type": "markdown",
   "id": "e2ac930b",
   "metadata": {},
   "source": [
    "<h2><font color=\"#004D7F\" size=6>Module 3. Data Preprocessing</font></h2>\n",
    "\n",
    "<h1><font color=\"#004D7F\" size=5>3. Resampling Methods</font></h1>\n",
    "\n",
    "<br><br>"
   ]
  },
  {
   "cell_type": "markdown",
   "id": "6d235398",
   "metadata": {},
   "source": [
    "<h2><font color=\"#004D7F\" size=5>Index</font></h2>\n",
    "<a id=\"indice\"></a>\n",
    "\n",
    "* [1. Introduction](#section1)\n",
    "    * [1.1. Libraries and CSV](#section11)\n",
    "* [2. Cross-Validation](#section2)\n",
    "    * [2.1. _k_-fold Cross Validation](#section21)\n",
    "    * [2.2. Repeated Cross-Validation](#section22)\n",
    "    * [2.3. Leave One Out Cross-Validation](#section23)\n",
    "* [3. Percentage Split](#section3)\n",
    "    * [3.1. Train/Test Percentage Split](#section31)\n",
    "    * [3.2. Random Repeated Train/Test Split](#section32)\n",
    "* [4. Choosing a Technique](#section4)"
   ]
  },
  {
   "cell_type": "markdown",
   "id": "666ba992",
   "metadata": {},
   "source": [
    "---\n",
    "<a id=\"section1\"></a>\n",
    "# <font color=\"#004D7F\">1. Introduction</font>\n"
   ]
  },
  {
   "cell_type": "markdown",
   "id": "e45ded56",
   "metadata": {},
   "source": [
    "The evaluation is an estimate that we can use to talk about how well we believe the algorithm can actually perform in practice. It's not a guarantee of performance. Once we estimate the performance of our algorithm, we can retrain the final algorithm on the entire training dataset and prepare it for operational use. Below, we'll look at four different techniques we can use to split our training dataset and create useful performance estimates for our Machine Learning algorithms:\n",
    "\n",
    "    * How to split a dataset into subsets by percentage for training/validation.\n",
    "    * How to assess model robustness using cross-validation, k-fold, with and without repetitions.\n",
    "    * How to assess model robustness using leave-one-out cross-validation (LOOCV).\n",
    "    * Random repeated train/test split."
   ]
  },
  {
   "cell_type": "markdown",
   "id": "09c48b0c",
   "metadata": {},
   "source": [
    "<a id=\"section11\"></a>\n",
    "## <font color=\"#004D7F\">1.1. Libraries and CSV</font>"
   ]
  },
  {
   "cell_type": "markdown",
   "id": "d304727e",
   "metadata": {},
   "source": [
    "As always, we load the CSV file that we are going to use. Additionally, we will load the main libraries that we will use in this section."
   ]
  },
  {
   "cell_type": "code",
   "execution_count": null,
   "id": "2808ba16",
   "metadata": {},
   "outputs": [],
   "source": []
  }
 ],
 "metadata": {
  "kernelspec": {
   "display_name": "Python 3 (ipykernel)",
   "language": "python",
   "name": "python3"
  },
  "language_info": {
   "codemirror_mode": {
    "name": "ipython",
    "version": 3
   },
   "file_extension": ".py",
   "mimetype": "text/x-python",
   "name": "python",
   "nbconvert_exporter": "python",
   "pygments_lexer": "ipython3",
   "version": "3.11.5"
  }
 },
 "nbformat": 4,
 "nbformat_minor": 5
}
