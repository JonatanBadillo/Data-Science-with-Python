{
 "cells": [
  {
   "cell_type": "markdown",
   "id": "c0f43e09",
   "metadata": {},
   "source": [
    "# Module 1. Introduction"
   ]
  },
  {
   "cell_type": "markdown",
   "id": "4f05bca9",
   "metadata": {},
   "source": [
    "## 3. Quick Python Course"
   ]
  },
  {
   "cell_type": "markdown",
   "id": "c2421ef9",
   "metadata": {},
   "source": [
    "## Index\n",
    "* [1. Introduction](#section1)\n",
    "    * [1.1. Packages](#section11)\n",
    "    * [1.2. Importing Libraries](#section12)\n",
    "    * [2. Python Syntax](#section2)\n",
    "        * [2.1. Assignment](#section21)\n",
    "        * [2.2. Flow Control](#section22)\n",
    "        * [2.3. Data Structures](#section23)\n",
    "    * [3. Numpy Course](#section3)\n",
    "    * [4. Matplotlib Course](#section4)\n",
    "    * [5. Pandas Course](#section5)"
   ]
  },
  {
   "cell_type": "markdown",
   "id": "9d602cd5",
   "metadata": {},
   "source": [
    "## 1. Introduction"
   ]
  },
  {
   "cell_type": "markdown",
   "id": "a152a31a",
   "metadata": {},
   "source": [
    "You don't need to be a Python developer to start using the Python ecosystem for machine learning. As a developer who already knows how to program in one or more programming languages, you can learn a new language like Python very quickly. You just need to know some language properties to transfer what you already know to the new language."
   ]
  },
  {
   "cell_type": "markdown",
   "id": "a1197d94",
   "metadata": {},
   "source": [
    "## 2. Python Syntax"
   ]
  },
  {
   "cell_type": "markdown",
   "id": "efa0e9e4",
   "metadata": {},
   "source": [
    "When starting in Python, you need to know some key details about the language syntax to be able to read and understand Python code."
   ]
  },
  {
   "cell_type": "markdown",
   "id": "d4be038d",
   "metadata": {},
   "source": [
    "## 2.1. Assignment"
   ]
  },
  {
   "cell_type": "markdown",
   "id": "0545472e",
   "metadata": {},
   "source": [
    "As a programmer, assignment and types shouldn't surprise you."
   ]
  },
  {
   "cell_type": "markdown",
   "id": "8383409a",
   "metadata": {},
   "source": [
    "### Strings"
   ]
  },
  {
   "cell_type": "code",
   "execution_count": 1,
   "id": "12246df7",
   "metadata": {},
   "outputs": [
    {
     "name": "stdout",
     "output_type": "stream",
     "text": [
      "h\n",
      "11\n",
      "hello world\n"
     ]
    }
   ],
   "source": [
    "# Save a string to a variable and print the character at position 0, length, and the whole string\n",
    "data = 'hello world'\n",
    "print(data[0])\n",
    "print(len(data))\n",
    "print(data)"
   ]
  },
  {
   "cell_type": "markdown",
   "id": "f8f4d207",
   "metadata": {},
   "source": [
    "### Numbers"
   ]
  },
  {
   "cell_type": "code",
   "execution_count": 2,
   "id": "25ec9b6c",
   "metadata": {},
   "outputs": [
    {
     "name": "stdout",
     "output_type": "stream",
     "text": [
      "123.1\n",
      "10\n"
     ]
    }
   ],
   "source": [
    "# Save a number, print it, change its value, and print it again\n",
    "value1 = 123.1\n",
    "value2 = 10\n",
    "print(value1)\n",
    "print(value2)"
   ]
  },
  {
   "cell_type": "markdown",
   "id": "9e209591",
   "metadata": {},
   "source": [
    "### Booleans"
   ]
  },
  {
   "cell_type": "code",
   "execution_count": 4,
   "id": "024e5392",
   "metadata": {},
   "outputs": [
    {
     "name": "stdout",
     "output_type": "stream",
     "text": [
      "True False\n"
     ]
    }
   ],
   "source": [
    "# Save the two boolean values in two different variables and print them\n",
    "a = True\n",
    "b = False\n",
    "print(a,b)"
   ]
  },
  {
   "cell_type": "markdown",
   "id": "57132d50",
   "metadata": {},
   "source": [
    "### Multiple Assignment"
   ]
  },
  {
   "cell_type": "code",
   "execution_count": 5,
   "id": "b2a3f0d6",
   "metadata": {},
   "outputs": [
    {
     "name": "stdout",
     "output_type": "stream",
     "text": [
      "1 2 3\n"
     ]
    }
   ],
   "source": [
    "# Assign 3 numbers to 3 variables and print them\n",
    "a,b,c = 1,2,3\n",
    "print(a,b,c)"
   ]
  },
  {
   "cell_type": "code",
   "execution_count": null,
   "id": "45760cd7",
   "metadata": {},
   "outputs": [],
   "source": []
  }
 ],
 "metadata": {
  "kernelspec": {
   "display_name": "Python 3 (ipykernel)",
   "language": "python",
   "name": "python3"
  },
  "language_info": {
   "codemirror_mode": {
    "name": "ipython",
    "version": 3
   },
   "file_extension": ".py",
   "mimetype": "text/x-python",
   "name": "python",
   "nbconvert_exporter": "python",
   "pygments_lexer": "ipython3",
   "version": "3.11.5"
  }
 },
 "nbformat": 4,
 "nbformat_minor": 5
}
