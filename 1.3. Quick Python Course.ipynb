{
 "cells": [
  {
   "cell_type": "markdown",
   "id": "3fbbc979",
   "metadata": {},
   "source": [
    "# Module 1. Introduction"
   ]
  },
  {
   "cell_type": "markdown",
   "id": "63b048ab",
   "metadata": {},
   "source": [
    "## 3. Quick Python Course"
   ]
  },
  {
   "cell_type": "markdown",
   "id": "c6192a2e",
   "metadata": {},
   "source": [
    "## Index\n",
    "* [1. Introduction](#section1)\n",
    "    * [1.1. Packages](#section11)\n",
    "    * [1.2. Importing Libraries](#section12)\n",
    "    * [2. Python Syntax](#section2)\n",
    "        * [2.1. Assignment](#section21)\n",
    "        * [2.2. Flow Control](#section22)\n",
    "        * [2.3. Data Structures](#section23)\n",
    "    * [3. Numpy Course](#section3)\n",
    "    * [4. Matplotlib Course](#section4)\n",
    "    * [5. Pandas Course](#section5)"
   ]
  },
  {
   "cell_type": "markdown",
   "id": "ac42ae2e",
   "metadata": {},
   "source": [
    "## 1. Introduction"
   ]
  },
  {
   "cell_type": "markdown",
   "id": "1a130615",
   "metadata": {},
   "source": [
    "You don't need to be a Python developer to start using the Python ecosystem for machine learning. As a developer who already knows how to program in one or more programming languages, you can learn a new language like Python very quickly. You just need to know some language properties to transfer what you already know to the new language."
   ]
  },
  {
   "cell_type": "markdown",
   "id": "6b002e82",
   "metadata": {},
   "source": [
    "## 2. Python Syntax"
   ]
  },
  {
   "cell_type": "markdown",
   "id": "a808a14e",
   "metadata": {},
   "source": [
    "When starting in Python, you need to know some key details about the language syntax to be able to read and understand Python code."
   ]
  },
  {
   "cell_type": "markdown",
   "id": "b6d15972",
   "metadata": {},
   "source": [
    "## 2.1. Assignment"
   ]
  },
  {
   "cell_type": "markdown",
   "id": "9e498b3f",
   "metadata": {},
   "source": [
    "As a programmer, assignment and types shouldn't surprise you."
   ]
  },
  {
   "cell_type": "markdown",
   "id": "146ad2e6",
   "metadata": {},
   "source": [
    "### Strings"
   ]
  },
  {
   "cell_type": "code",
   "execution_count": 1,
   "id": "f17fd4be",
   "metadata": {},
   "outputs": [
    {
     "name": "stdout",
     "output_type": "stream",
     "text": [
      "h\n",
      "11\n",
      "hello world\n"
     ]
    }
   ],
   "source": [
    "# Save a string to a variable and print the character at position 0, length, and the whole string\n",
    "data = 'hello world'\n",
    "print(data[0])\n",
    "print(len(data))\n",
    "print(data)"
   ]
  },
  {
   "cell_type": "markdown",
   "id": "35da3a9a",
   "metadata": {},
   "source": [
    "### Numbers"
   ]
  },
  {
   "cell_type": "code",
   "execution_count": 2,
   "id": "8b9ef79c",
   "metadata": {},
   "outputs": [
    {
     "name": "stdout",
     "output_type": "stream",
     "text": [
      "123.1\n",
      "10\n"
     ]
    }
   ],
   "source": [
    "# Save a number, print it, change its value, and print it again\n",
    "value1 = 123.1\n",
    "value2 = 10\n",
    "print(value1)\n",
    "print(value2)"
   ]
  },
  {
   "cell_type": "markdown",
   "id": "8e5fd3ad",
   "metadata": {},
   "source": [
    "### Booleans"
   ]
  },
  {
   "cell_type": "code",
   "execution_count": 4,
   "id": "11ced1b1",
   "metadata": {},
   "outputs": [
    {
     "name": "stdout",
     "output_type": "stream",
     "text": [
      "True False\n"
     ]
    }
   ],
   "source": [
    "# Save the two boolean values in two different variables and print them\n",
    "a = True\n",
    "b = False\n",
    "print(a,b)"
   ]
  },
  {
   "cell_type": "markdown",
   "id": "f03808a7",
   "metadata": {},
   "source": [
    "### Multiple Assignment"
   ]
  },
  {
   "cell_type": "code",
   "execution_count": 5,
   "id": "7906afa0",
   "metadata": {},
   "outputs": [
    {
     "name": "stdout",
     "output_type": "stream",
     "text": [
      "1 2 3\n"
     ]
    }
   ],
   "source": [
    "# Assign 3 numbers to 3 variables and print them\n",
    "a,b,c = 1,2,3\n",
    "print(a,b,c)"
   ]
  },
  {
   "cell_type": "markdown",
   "id": "836ea90e",
   "metadata": {},
   "source": [
    "### None Value"
   ]
  },
  {
   "cell_type": "code",
   "execution_count": 6,
   "id": "1fe7f429",
   "metadata": {},
   "outputs": [
    {
     "name": "stdout",
     "output_type": "stream",
     "text": [
      "None\n"
     ]
    }
   ],
   "source": [
    "a = None\n",
    "print(a)"
   ]
  },
  {
   "cell_type": "markdown",
   "id": "700fad3f",
   "metadata": {},
   "source": [
    "## 2.2. Flow Control"
   ]
  },
  {
   "cell_type": "markdown",
   "id": "aff90b60",
   "metadata": {},
   "source": [
    "Flow control is common to every programming language, so you already know what they do. The only thing you need to learn is the syntax."
   ]
  },
  {
   "cell_type": "markdown",
   "id": "46048afd",
   "metadata": {},
   "source": [
    "### If-else"
   ]
  },
  {
   "cell_type": "code",
   "execution_count": 7,
   "id": "c2e04a3b",
   "metadata": {},
   "outputs": [
    {
     "name": "stdout",
     "output_type": "stream",
     "text": [
      "That is fast\n"
     ]
    }
   ],
   "source": [
    "# Save a value and verify if its 99, greater tahn 200 and neither\n",
    "value = 99\n",
    "if value==99:\n",
    "    print('That is fast')\n",
    "elif value > 200:\n",
    "    print('That is too fast')\n",
    "else:\n",
    "    print('That is safe')"
   ]
  },
  {
   "cell_type": "markdown",
   "id": "59fb348d",
   "metadata": {},
   "source": [
    "### For-Loops"
   ]
  },
  {
   "cell_type": "markdown",
   "id": "8d59db10",
   "metadata": {},
   "source": [
    "`for` loops until the condition is done"
   ]
  },
  {
   "cell_type": "code",
   "execution_count": 9,
   "id": "5b450159",
   "metadata": {},
   "outputs": [
    {
     "name": "stdout",
     "output_type": "stream",
     "text": [
      "1\n",
      "2\n",
      "3\n",
      "4\n",
      "5\n",
      "6\n",
      "7\n",
      "8\n",
      "9\n",
      "10\n"
     ]
    }
   ],
   "source": [
    "# Print values from 1 to 10 \n",
    "for i in range(10):\n",
    "    print(i+1)"
   ]
  },
  {
   "cell_type": "markdown",
   "id": "cba5f54a",
   "metadata": {},
   "source": [
    "### While-Loops"
   ]
  },
  {
   "cell_type": "markdown",
   "id": "217d40de",
   "metadata": {},
   "source": [
    "`while` loops until the condition is done"
   ]
  },
  {
   "cell_type": "code",
   "execution_count": 11,
   "id": "bd6b67c2",
   "metadata": {},
   "outputs": [
    {
     "name": "stdout",
     "output_type": "stream",
     "text": [
      "1\n",
      "2\n",
      "3\n",
      "4\n",
      "5\n",
      "6\n",
      "7\n",
      "8\n",
      "9\n",
      "10\n"
     ]
    }
   ],
   "source": [
    "# Print values from 1 to 10  with while\n",
    "i = 0\n",
    "while i < 10:\n",
    "    print(i+1)\n",
    "    i+=1"
   ]
  },
  {
   "cell_type": "markdown",
   "id": "c6cb1e68",
   "metadata": {},
   "source": [
    "## 2.3. Data Structures"
   ]
  },
  {
   "cell_type": "markdown",
   "id": "5b0e2932",
   "metadata": {},
   "source": [
    "There are 3 most used data structures. There are tuples, lists and dictionaries"
   ]
  },
  {
   "cell_type": "markdown",
   "id": "f8e6162d",
   "metadata": {},
   "source": [
    "### Tuples"
   ]
  },
  {
   "cell_type": "markdown",
   "id": "1bb99a6a",
   "metadata": {},
   "source": [
    "Tuples are read-only collection of items"
   ]
  },
  {
   "cell_type": "code",
   "execution_count": 14,
   "id": "9509b649",
   "metadata": {},
   "outputs": [
    {
     "name": "stdout",
     "output_type": "stream",
     "text": [
      "(1, 2, 3, 4)\n"
     ]
    }
   ],
   "source": [
    "# Save in a tuple 3 values to print\n",
    "a = (1,2,3,4)\n",
    "print(a)"
   ]
  },
  {
   "cell_type": "markdown",
   "id": "26d50e89",
   "metadata": {},
   "source": [
    "### Lists"
   ]
  },
  {
   "cell_type": "markdown",
   "id": "7031048c",
   "metadata": {},
   "source": [
    "Lists use bracket notation and can be indexed using array notation. Note that we are using some simple printf-like functions to combine strings and variables when printing."
   ]
  },
  {
   "cell_type": "code",
   "execution_count": 26,
   "id": "f81b2d80",
   "metadata": {},
   "outputs": [
    {
     "name": "stdout",
     "output_type": "stream",
     "text": [
      "[1, 2, 3]\n",
      "Zeroth value: 1\n",
      "List length: 4\n",
      "Last value: 10\n",
      "1\n",
      "2\n",
      "3\n",
      "10\n"
     ]
    }
   ],
   "source": [
    "# Create a list with three values, print the first one, add a fourth, print the length, and all elements\n",
    "my_list = [1,2,3]\n",
    "print(my_list)\n",
    "print(f\"Zeroth value: {my_list[0]}\")\n",
    "my_list.append(10)\n",
    "print(f\"List length: {len(my_list)}\")\n",
    "print(f\"Last value: {my_list[3]}\")\n",
    "for value in my_list:\n",
    "    print(value)"
   ]
  },
  {
   "cell_type": "markdown",
   "id": "572bb5d9",
   "metadata": {},
   "source": [
    "### Dictionaries"
   ]
  },
  {
   "cell_type": "markdown",
   "id": "612abff3",
   "metadata": {},
   "source": [
    "Dictionaries are mappings of names to values, like key-value pairs. Note the use of brackets and colons when defining the dictionary."
   ]
  },
  {
   "cell_type": "code",
   "execution_count": 32,
   "id": "d94fdddf",
   "metadata": {},
   "outputs": [
    {
     "name": "stdout",
     "output_type": "stream",
     "text": [
      "A value: 1\n",
      "A value: 10\n",
      "Keys: dict_keys(['a', 'b', 'c'])\n",
      "Values: dict_values([10, 2, 3])\n",
      "10\n",
      "2\n",
      "3\n"
     ]
    }
   ],
   "source": [
    "# Create a dictionary with 3 values, print the first one, change its value\n",
    "# Show the keys and values of the dictionary, and finally, print all values with a loop\\n\",\n",
    "dict = {'a':1, 'b':2 , 'c':3}\n",
    "print(f\"A value: {dict['a']}\")\n",
    "dict['a'] = 10\n",
    "print(f\"A value: {dict['a']}\")\n",
    "print(f\"Keys: {dict.keys()}\")\n",
    "print(f\"Values: {dict.values()}\")\n",
    "\n",
    "for i in dict.keys():\n",
    "    print(dict[i])"
   ]
  },
  {
   "cell_type": "markdown",
   "id": "41b7e86d",
   "metadata": {},
   "source": [
    "### Functions"
   ]
  },
  {
   "cell_type": "markdown",
   "id": "5a7229b7",
   "metadata": {},
   "source": [
    "The biggest problem with Python is whitespace. Make sure to have a new empty line after the indented code. The following example defines a new function to sum two values and calls the function with two arguments."
   ]
  },
  {
   "cell_type": "code",
   "execution_count": 34,
   "id": "fbfb06db",
   "metadata": {},
   "outputs": [
    {
     "ename": "SyntaxError",
     "evalue": "incomplete input (2668881064.py, line 2)",
     "output_type": "error",
     "traceback": [
      "\u001b[0;36m  Cell \u001b[0;32mIn[34], line 2\u001b[0;36m\u001b[0m\n\u001b[0;31m    def mysum():\u001b[0m\n\u001b[0m                ^\u001b[0m\n\u001b[0;31mSyntaxError\u001b[0m\u001b[0;31m:\u001b[0m incomplete input\n"
     ]
    }
   ],
   "source": [
    "# Create a function that add two values\n",
    "def mysum():\n",
    "    return x+"
   ]
  },
  {
   "cell_type": "code",
   "execution_count": null,
   "id": "0fe52ac2",
   "metadata": {},
   "outputs": [],
   "source": []
  }
 ],
 "metadata": {
  "kernelspec": {
   "display_name": "Python 3 (ipykernel)",
   "language": "python",
   "name": "python3"
  },
  "language_info": {
   "codemirror_mode": {
    "name": "ipython",
    "version": 3
   },
   "file_extension": ".py",
   "mimetype": "text/x-python",
   "name": "python",
   "nbconvert_exporter": "python",
   "pygments_lexer": "ipython3",
   "version": "3.11.5"
  }
 },
 "nbformat": 4,
 "nbformat_minor": 5
}
