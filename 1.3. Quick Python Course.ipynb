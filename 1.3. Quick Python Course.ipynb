{
 "cells": [
  {
   "cell_type": "markdown",
   "id": "21efd464",
   "metadata": {},
   "source": [
    "# Module 1. Introduction"
   ]
  },
  {
   "cell_type": "markdown",
   "id": "3b25f8e9",
   "metadata": {},
   "source": [
    "## 3. Quick Python Course"
   ]
  },
  {
   "cell_type": "markdown",
   "id": "4ed42605",
   "metadata": {},
   "source": [
    "## Index\n",
    "* [1. Introduction](#section1)\n",
    "    * [1.1. Packages](#section11)\n",
    "    * [1.2. Importing Libraries](#section12)\n",
    "    * [2. Python Syntax](#section2)\n",
    "        * [2.1. Assignment](#section21)\n",
    "        * [2.2. Flow Control](#section22)\n",
    "        * [2.3. Data Structures](#section23)\n",
    "    * [3. Numpy Course](#section3)\n",
    "    * [4. Matplotlib Course](#section4)\n",
    "    * [5. Pandas Course](#section5)"
   ]
  },
  {
   "cell_type": "markdown",
   "id": "cee6aec1",
   "metadata": {},
   "source": [
    "# 1. Introduction"
   ]
  },
  {
   "cell_type": "markdown",
   "id": "b5049954",
   "metadata": {},
   "source": [
    "You don't need to be a Python developer to start using the Python ecosystem for machine learning. As a developer who already knows how to program in one or more programming languages, you can learn a new language like Python very quickly. You just need to know some language properties to transfer what you already know to the new language."
   ]
  },
  {
   "cell_type": "markdown",
   "id": "f3254cd4",
   "metadata": {},
   "source": [
    "# 2. Python Syntax"
   ]
  },
  {
   "cell_type": "markdown",
   "id": "5268c226",
   "metadata": {},
   "source": [
    "When starting in Python, you need to know some key details about the language syntax to be able to read and understand Python code."
   ]
  },
  {
   "cell_type": "markdown",
   "id": "f28c5c51",
   "metadata": {},
   "source": [
    "## 2.1. Assignment"
   ]
  },
  {
   "cell_type": "markdown",
   "id": "9e226aae",
   "metadata": {},
   "source": [
    "As a programmer, assignment and types shouldn't surprise you."
   ]
  },
  {
   "cell_type": "markdown",
   "id": "8164f535",
   "metadata": {},
   "source": [
    "### Strings"
   ]
  },
  {
   "cell_type": "code",
   "execution_count": 1,
   "id": "e81f88b6",
   "metadata": {},
   "outputs": [
    {
     "name": "stdout",
     "output_type": "stream",
     "text": [
      "h\n",
      "11\n",
      "hello world\n"
     ]
    }
   ],
   "source": [
    "# Save a string to a variable and print the character at position 0, length, and the whole string\n",
    "data = 'hello world'\n",
    "print(data[0])\n",
    "print(len(data))\n",
    "print(data)"
   ]
  },
  {
   "cell_type": "markdown",
   "id": "56c2ecd5",
   "metadata": {},
   "source": [
    "### Numbers"
   ]
  },
  {
   "cell_type": "code",
   "execution_count": 2,
   "id": "e44214a4",
   "metadata": {},
   "outputs": [
    {
     "name": "stdout",
     "output_type": "stream",
     "text": [
      "123.1\n",
      "10\n"
     ]
    }
   ],
   "source": [
    "# Save a number, print it, change its value, and print it again\n",
    "value1 = 123.1\n",
    "value2 = 10\n",
    "print(value1)\n",
    "print(value2)"
   ]
  },
  {
   "cell_type": "markdown",
   "id": "5df31c87",
   "metadata": {},
   "source": [
    "### Booleans"
   ]
  },
  {
   "cell_type": "code",
   "execution_count": 4,
   "id": "ab554fd2",
   "metadata": {},
   "outputs": [
    {
     "name": "stdout",
     "output_type": "stream",
     "text": [
      "True False\n"
     ]
    }
   ],
   "source": [
    "# Save the two boolean values in two different variables and print them\n",
    "a = True\n",
    "b = False\n",
    "print(a,b)"
   ]
  },
  {
   "cell_type": "markdown",
   "id": "230bf836",
   "metadata": {},
   "source": [
    "### Multiple Assignment"
   ]
  },
  {
   "cell_type": "code",
   "execution_count": 5,
   "id": "6877005f",
   "metadata": {},
   "outputs": [
    {
     "name": "stdout",
     "output_type": "stream",
     "text": [
      "1 2 3\n"
     ]
    }
   ],
   "source": [
    "# Assign 3 numbers to 3 variables and print them\n",
    "a,b,c = 1,2,3\n",
    "print(a,b,c)"
   ]
  },
  {
   "cell_type": "markdown",
   "id": "13b4636d",
   "metadata": {},
   "source": [
    "### None Value"
   ]
  },
  {
   "cell_type": "code",
   "execution_count": 6,
   "id": "127dad23",
   "metadata": {},
   "outputs": [
    {
     "name": "stdout",
     "output_type": "stream",
     "text": [
      "None\n"
     ]
    }
   ],
   "source": [
    "a = None\n",
    "print(a)"
   ]
  },
  {
   "cell_type": "markdown",
   "id": "fbaf573b",
   "metadata": {},
   "source": [
    "## 2.2. Flow Control"
   ]
  },
  {
   "cell_type": "markdown",
   "id": "2858d28a",
   "metadata": {},
   "source": [
    "Flow control is common to every programming language, so you already know what they do. The only thing you need to learn is the syntax."
   ]
  },
  {
   "cell_type": "markdown",
   "id": "c43346a1",
   "metadata": {},
   "source": [
    "### If-else"
   ]
  },
  {
   "cell_type": "code",
   "execution_count": 7,
   "id": "ec0e0e53",
   "metadata": {},
   "outputs": [
    {
     "name": "stdout",
     "output_type": "stream",
     "text": [
      "That is fast\n"
     ]
    }
   ],
   "source": [
    "# Save a value and verify if its 99, greater tahn 200 and neither\n",
    "value = 99\n",
    "if value==99:\n",
    "    print('That is fast')\n",
    "elif value > 200:\n",
    "    print('That is too fast')\n",
    "else:\n",
    "    print('That is safe')"
   ]
  },
  {
   "cell_type": "markdown",
   "id": "f7232037",
   "metadata": {},
   "source": [
    "### For-Loops"
   ]
  },
  {
   "cell_type": "markdown",
   "id": "82627ab9",
   "metadata": {},
   "source": [
    "`for` loops until the condition is done"
   ]
  },
  {
   "cell_type": "code",
   "execution_count": 9,
   "id": "479311c6",
   "metadata": {},
   "outputs": [
    {
     "name": "stdout",
     "output_type": "stream",
     "text": [
      "1\n",
      "2\n",
      "3\n",
      "4\n",
      "5\n",
      "6\n",
      "7\n",
      "8\n",
      "9\n",
      "10\n"
     ]
    }
   ],
   "source": [
    "# Print values from 1 to 10 \n",
    "for i in range(10):\n",
    "    print(i+1)"
   ]
  },
  {
   "cell_type": "markdown",
   "id": "2e07da5b",
   "metadata": {},
   "source": [
    "### While-Loops"
   ]
  },
  {
   "cell_type": "markdown",
   "id": "34af7e06",
   "metadata": {},
   "source": [
    "`while` loops until the condition is done"
   ]
  },
  {
   "cell_type": "code",
   "execution_count": 11,
   "id": "250ed322",
   "metadata": {},
   "outputs": [
    {
     "name": "stdout",
     "output_type": "stream",
     "text": [
      "1\n",
      "2\n",
      "3\n",
      "4\n",
      "5\n",
      "6\n",
      "7\n",
      "8\n",
      "9\n",
      "10\n"
     ]
    }
   ],
   "source": [
    "# Print values from 1 to 10  with while\n",
    "i = 0\n",
    "while i < 10:\n",
    "    print(i+1)\n",
    "    i+=1"
   ]
  },
  {
   "cell_type": "markdown",
   "id": "f1585451",
   "metadata": {},
   "source": [
    "## 2.3. Data Structures"
   ]
  },
  {
   "cell_type": "markdown",
   "id": "27ed08bd",
   "metadata": {},
   "source": [
    "There are 3 most used data structures. There are tuples, lists and dictionaries"
   ]
  },
  {
   "cell_type": "markdown",
   "id": "28fa6f85",
   "metadata": {},
   "source": [
    "### Tuples"
   ]
  },
  {
   "cell_type": "markdown",
   "id": "9c6dfa4e",
   "metadata": {},
   "source": [
    "Tuples are read-only collection of items"
   ]
  },
  {
   "cell_type": "code",
   "execution_count": 14,
   "id": "9c0d959a",
   "metadata": {},
   "outputs": [
    {
     "name": "stdout",
     "output_type": "stream",
     "text": [
      "(1, 2, 3, 4)\n"
     ]
    }
   ],
   "source": [
    "# Save in a tuple 3 values to print\n",
    "a = (1,2,3,4)\n",
    "print(a)"
   ]
  },
  {
   "cell_type": "markdown",
   "id": "658f11e6",
   "metadata": {},
   "source": [
    "### Lists"
   ]
  },
  {
   "cell_type": "markdown",
   "id": "8092fc8e",
   "metadata": {},
   "source": [
    "Lists use bracket notation and can be indexed using array notation. "
   ]
  },
  {
   "cell_type": "code",
   "execution_count": 26,
   "id": "5057721e",
   "metadata": {},
   "outputs": [
    {
     "name": "stdout",
     "output_type": "stream",
     "text": [
      "[1, 2, 3]\n",
      "Zeroth value: 1\n",
      "List length: 4\n",
      "Last value: 10\n",
      "1\n",
      "2\n",
      "3\n",
      "10\n"
     ]
    }
   ],
   "source": [
    "# Create a list with three values, print the first one, add a fourth, print the length, and all elements\n",
    "my_list = [1,2,3]\n",
    "print(my_list)\n",
    "print(f\"Zeroth value: {my_list[0]}\")\n",
    "my_list.append(10)\n",
    "print(f\"List length: {len(my_list)}\")\n",
    "print(f\"Last value: {my_list[3]}\")\n",
    "for value in my_list:\n",
    "    print(value)"
   ]
  },
  {
   "cell_type": "markdown",
   "id": "1444e7d9",
   "metadata": {},
   "source": [
    "### Dictionaries"
   ]
  },
  {
   "cell_type": "markdown",
   "id": "c9cb99d8",
   "metadata": {},
   "source": [
    "Dictionaries are mappings of names to values, like key-value pairs. Note the use of brackets and colons when defining the dictionary."
   ]
  },
  {
   "cell_type": "code",
   "execution_count": 32,
   "id": "cae29411",
   "metadata": {},
   "outputs": [
    {
     "name": "stdout",
     "output_type": "stream",
     "text": [
      "A value: 1\n",
      "A value: 10\n",
      "Keys: dict_keys(['a', 'b', 'c'])\n",
      "Values: dict_values([10, 2, 3])\n",
      "10\n",
      "2\n",
      "3\n"
     ]
    }
   ],
   "source": [
    "# Create a dictionary with 3 values, print the first one, change its value\n",
    "# Show the keys and values of the dictionary, and finally, print all values with a loop\\n\",\n",
    "dict = {'a':1, 'b':2 , 'c':3}\n",
    "print(f\"A value: {dict['a']}\")\n",
    "dict['a'] = 10\n",
    "print(f\"A value: {dict['a']}\")\n",
    "print(f\"Keys: {dict.keys()}\")\n",
    "print(f\"Values: {dict.values()}\")\n",
    "\n",
    "for i in dict.keys():\n",
    "    print(dict[i])"
   ]
  },
  {
   "cell_type": "markdown",
   "id": "54301f06",
   "metadata": {},
   "source": [
    "### Functions"
   ]
  },
  {
   "cell_type": "markdown",
   "id": "74e8df2a",
   "metadata": {},
   "source": [
    "The biggest problem with Python is whitespace. Make sure to have a new empty line after the indented code. The following example defines a new function to sum two values and calls the function with two arguments."
   ]
  },
  {
   "cell_type": "code",
   "execution_count": 35,
   "id": "f8d93a19",
   "metadata": {},
   "outputs": [
    {
     "name": "stdout",
     "output_type": "stream",
     "text": [
      "5\n"
     ]
    }
   ],
   "source": [
    "# Create a function that sums two values\n",
    "def mysum(x,y):\n",
    "    return x+y\n",
    "\n",
    "result = mysum(2,3)\n",
    "print(result)"
   ]
  },
  {
   "cell_type": "markdown",
   "id": "d8c8d0b7",
   "metadata": {},
   "source": [
    "# 3. Numpy Course"
   ]
  },
  {
   "cell_type": "markdown",
   "id": "a2cb2b7c",
   "metadata": {},
   "source": [
    "NumPy provides the basic data structures and operations for SciPy. These are arrays (ndarrays) that are efficient for defining and manipulating."
   ]
  },
  {
   "cell_type": "markdown",
   "id": "462fe7fd",
   "metadata": {},
   "source": [
    "### Create an array"
   ]
  },
  {
   "cell_type": "markdown",
   "id": "d9c31d9f",
   "metadata": {},
   "source": [
    "See how we easily convert a Python list into a NumPy array"
   ]
  },
  {
   "cell_type": "code",
   "execution_count": 38,
   "id": "d946dc4e",
   "metadata": {},
   "outputs": [
    {
     "name": "stdout",
     "output_type": "stream",
     "text": [
      "[1 2 3]\n",
      "(3,)\n"
     ]
    }
   ],
   "source": [
    "# Create an array and print their values y length\n",
    "\n",
    "import numpy as np\n",
    "\n",
    "mylist= [1,2,3]\n",
    "myarray = np.array(mylist)\n",
    "print(myarray)\n",
    "print(myarray.shape)"
   ]
  },
  {
   "cell_type": "markdown",
   "id": "1d2fcfd4",
   "metadata": {},
   "source": [
    "### Data Access"
   ]
  },
  {
   "cell_type": "markdown",
   "id": "63e5e297",
   "metadata": {},
   "source": [
    "Array notation and slicing can be used to efficiently access data in a NumPy array."
   ]
  },
  {
   "cell_type": "code",
   "execution_count": 47,
   "id": "79bd2512",
   "metadata": {},
   "outputs": [
    {
     "name": "stdout",
     "output_type": "stream",
     "text": [
      "[[1 2 3]\n",
      " [4 5 6]]\n",
      "(2, 3)\n",
      "First row: [1 2 3]\n",
      "Last row: [4 5 6]\n",
      "Value[0][2]: 3\n",
      "Whole col: [3 6]\n"
     ]
    }
   ],
   "source": [
    "# Make a 2x3 matrix and print the first and last list\n",
    "# Then print a specific element and the values of column\n",
    "\n",
    "import numpy as np\n",
    "\n",
    "mylist = [[1,2,3],[4,5,6]]\n",
    "myarray = np.array(mylist)\n",
    "print(myarray)\n",
    "print(myarray.shape)\n",
    "print(f\"First row: {myarray[0]}\")\n",
    "print(f\"Last row: {myarray[-1]}\")\n",
    "print(f\"Value[0][2]: {myarray[0,2]}\")\n",
    "print(f\"Whole col: {myarray[:,2]}\")"
   ]
  },
  {
   "cell_type": "markdown",
   "id": "d981fc7f",
   "metadata": {},
   "source": [
    "### Arithmetic Operators"
   ]
  },
  {
   "cell_type": "markdown",
   "id": "7b311bf5",
   "metadata": {},
   "source": [
    "NumPy arrays can be directly used in arithmetic."
   ]
  },
  {
   "cell_type": "code",
   "execution_count": 50,
   "id": "ab167c3f",
   "metadata": {},
   "outputs": [
    {
     "name": "stdout",
     "output_type": "stream",
     "text": [
      "Addition: [5 5 5]\n",
      "Multiplication: [6 6 6]\n"
     ]
    }
   ],
   "source": [
    "# Create two vectors to suma and multiple\n",
    "\n",
    "import numpy as np\n",
    "\n",
    "myarray1 = np.array([2,2,2])\n",
    "myarray2 = np.array([3,3,3])\n",
    "\n",
    "print(f\"Addition: {myarray1 + myarray2}\")\n",
    "print(f\"Multiplication: {myarray1 * myarray2}\")"
   ]
  },
  {
   "cell_type": "markdown",
   "id": "31557a8c",
   "metadata": {},
   "source": [
    "<div class=\"alert alert-block alert-info\">\n",
    "    \n",
    "<i class=\"fa fa-info-circle\" aria-hidden=\"true\"></i>\n",
    "There's much more to NumPy arrays, but these examples give you an idea of the efficiencies they provide when working with lots of numerical data. Refer to Chapter 24 for resources to learn more about the NumPy API.\n",
    "\n",
    "For more information on this library:\n",
    "   * [NumPy Documentation](https://docs.scipy.org/doc/numpy/user/)\n",
    "   * [SciPy Documentation](http://scipy-lectures.org/)\n",
    "</div>"
   ]
  },
  {
   "cell_type": "markdown",
   "id": "7e6092df",
   "metadata": {},
   "source": [
    "# 4. Matplotlib Course"
   ]
  },
  {
   "cell_type": "markdown",
   "id": "fc08d33d",
   "metadata": {},
   "source": [
    "Matplotlib can be used to create diagrams and plots. The library is generally used as follows:\n",
    "  * Call a plotting function with some data (e.g., `.plot()`)\n",
    "  * Call many functions to configure plot properties (e.g., labels and colors).\n",
    "  * Make the plot visible (e.g., `.show()`"
   ]
  },
  {
   "cell_type": "markdown",
   "id": "6ab323ab",
   "metadata": {},
   "source": [
    "### Line Graphs"
   ]
  },
  {
   "cell_type": "markdown",
   "id": "5084d3e2",
   "metadata": {},
   "source": [
    "The following example creates a simple line diagram from one-dimensional data."
   ]
  },
  {
   "cell_type": "code",
   "execution_count": 58,
   "id": "c5927fb3",
   "metadata": {},
   "outputs": [
    {
     "data": {
      "image/png": "[encoded data removed]",
      "text/plain": [
       "<Figure size 640x480 with 1 Axes>"
      ]
     },
     "metadata": {},
     "output_type": "display_data"
    }
   ],
   "source": [
    "# Create a vector and plot a line graph with its values.\n",
    "import matplotlib.pyplot as plt\n",
    "import numpy as np\n",
    "\n",
    "myarray = np.array([1,2,3])\n",
    "plt.plot(myarray)\n",
    "plt.xlabel(\"X\")\n",
    "plt.ylabel(\"Y\")\n",
    "plt.show()"
   ]
  },
  {
   "cell_type": "markdown",
   "id": "322cce1f",
   "metadata": {},
   "source": [
    "### Scatter Plots"
   ]
  },
  {
   "cell_type": "markdown",
   "id": "ebef84eb",
   "metadata": {},
   "source": [
    "Below is a simple example of creating a scatter plot from two-dimensional data."
   ]
  },
  {
   "cell_type": "code",
   "execution_count": 62,
   "id": "e5cafcd8",
   "metadata": {},
   "outputs": [
    {
     "data": {
      "image/png": "[encoded data removed]",
      "text/plain": [
       "<Figure size 640x480 with 1 Axes>"
      ]
     },
     "metadata": {},
     "output_type": "display_data"
    }
   ],
   "source": [
    "# Create two vectors and represent the points as a scatter plot\n",
    "import matplotlib.pyplot as plt\n",
    "import numpy as np\n",
    "\n",
    "x = np.array([1,2,3])\n",
    "y = np.array([2,4,6])\n",
    "\n",
    "plt.xlabel(\"X\")\n",
    "plt.ylabel(\"Y\")\n",
    "plt.scatter(x,y)\n",
    "plt.show()"
   ]
  },
  {
   "cell_type": "markdown",
   "id": "badd00f8",
   "metadata": {},
   "source": [
    "There are many more types of plots and many more properties that can be set in a plot to configure it. Confident up to the point where you can copy and paste a recipe to plot data in the blink of an eye. It's an invaluable skill. I think it would be best for you to see many examples of Matplotlib for different types of plots and prepare recipes to use later. "
   ]
  },
  {
   "cell_type": "markdown",
   "id": "951f58b6",
   "metadata": {},
   "source": [
    "<div class=\"alert alert-block alert-info\">\n",
    "    \n",
    "<i class=\"fa fa-info-circle\" aria-hidden=\"true\"></i>\n",
    "For more information about this library:\n",
    "* Matplotlib Gallery with [simple and readable code](https://matplotlib.org/gallery.html).\n",
    "* Matplotlib [Beginner's Guide](https://matplotlib.org/users/beginner.html).\n",
    "* Matplotlib [API Reference](https://matplotlib.org/api/index.html).\n",
    "</div>\n"
   ]
  },
  {
   "cell_type": "code",
   "execution_count": null,
   "id": "2ae62be8",
   "metadata": {},
   "outputs": [],
   "source": []
  }
 ],
 "metadata": {
  "kernelspec": {
   "display_name": "Python 3 (ipykernel)",
   "language": "python",
   "name": "python3"
  },
  "language_info": {
   "codemirror_mode": {
    "name": "ipython",
    "version": 3
   },
   "file_extension": ".py",
   "mimetype": "text/x-python",
   "name": "python",
   "nbconvert_exporter": "python",
   "pygments_lexer": "ipython3",
   "version": "3.11.5"
  }
 },
 "nbformat": 4,
 "nbformat_minor": 5
}
