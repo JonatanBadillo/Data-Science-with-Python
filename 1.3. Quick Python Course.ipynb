{
 "cells": [
  {
   "cell_type": "markdown",
   "id": "32dfc87d",
   "metadata": {},
   "source": [
    "# Module 1. Introduction"
   ]
  },
  {
   "cell_type": "markdown",
   "id": "486f2c2b",
   "metadata": {},
   "source": [
    "## 3. Quick Python Course"
   ]
  },
  {
   "cell_type": "markdown",
   "id": "6aff844a",
   "metadata": {},
   "source": [
    "## Index\n",
    "* [1. Introduction](#section1)\n",
    "    * [1.1. Packages](#section11)\n",
    "    * [1.2. Importing Libraries](#section12)\n",
    "    * [2. Python Syntax](#section2)\n",
    "        * [2.1. Assignment](#section21)\n",
    "        * [2.2. Flow Control](#section22)\n",
    "        * [2.3. Data Structures](#section23)\n",
    "    * [3. Numpy Course](#section3)\n",
    "    * [4. Matplotlib Course](#section4)\n",
    "    * [5. Pandas Course](#section5)"
   ]
  },
  {
   "cell_type": "markdown",
   "id": "2f8367fb",
   "metadata": {},
   "source": [
    "## 1. Introduction"
   ]
  },
  {
   "cell_type": "markdown",
   "id": "602fe413",
   "metadata": {},
   "source": [
    "You don't need to be a Python developer to start using the Python ecosystem for machine learning. As a developer who already knows how to program in one or more programming languages, you can learn a new language like Python very quickly. You just need to know some language properties to transfer what you already know to the new language."
   ]
  },
  {
   "cell_type": "markdown",
   "id": "a9b399e0",
   "metadata": {},
   "source": [
    "## 2. Python Syntax"
   ]
  },
  {
   "cell_type": "markdown",
   "id": "055fca00",
   "metadata": {},
   "source": [
    "When starting in Python, you need to know some key details about the language syntax to be able to read and understand Python code."
   ]
  },
  {
   "cell_type": "markdown",
   "id": "a9a507f9",
   "metadata": {},
   "source": [
    "## 2.1. Assignment"
   ]
  },
  {
   "cell_type": "markdown",
   "id": "b3c2e20f",
   "metadata": {},
   "source": [
    "As a programmer, assignment and types shouldn't surprise you."
   ]
  },
  {
   "cell_type": "markdown",
   "id": "00cf5f7b",
   "metadata": {},
   "source": [
    "### Strings"
   ]
  },
  {
   "cell_type": "code",
   "execution_count": 1,
   "id": "95b8270e",
   "metadata": {},
   "outputs": [
    {
     "name": "stdout",
     "output_type": "stream",
     "text": [
      "h\n",
      "11\n",
      "hello world\n"
     ]
    }
   ],
   "source": [
    "# Save a string to a variable and print the character at position 0, length, and the whole string\n",
    "data = 'hello world'\n",
    "print(data[0])\n",
    "print(len(data))\n",
    "print(data)"
   ]
  },
  {
   "cell_type": "markdown",
   "id": "4caafe3b",
   "metadata": {},
   "source": [
    "### Numbers"
   ]
  },
  {
   "cell_type": "code",
   "execution_count": 2,
   "id": "21eef697",
   "metadata": {},
   "outputs": [
    {
     "name": "stdout",
     "output_type": "stream",
     "text": [
      "123.1\n",
      "10\n"
     ]
    }
   ],
   "source": [
    "# Save a number, print it, change its value, and print it again\n",
    "value1 = 123.1\n",
    "value2 = 10\n",
    "print(value1)\n",
    "print(value2)"
   ]
  },
  {
   "cell_type": "markdown",
   "id": "14328b58",
   "metadata": {},
   "source": [
    "### Booleans"
   ]
  },
  {
   "cell_type": "code",
   "execution_count": 4,
   "id": "3e5d857f",
   "metadata": {},
   "outputs": [
    {
     "name": "stdout",
     "output_type": "stream",
     "text": [
      "True False\n"
     ]
    }
   ],
   "source": [
    "# Save the two boolean values in two different variables and print them\n",
    "a = True\n",
    "b = False\n",
    "print(a,b)"
   ]
  },
  {
   "cell_type": "markdown",
   "id": "50a91c61",
   "metadata": {},
   "source": [
    "### Multiple Assignment"
   ]
  },
  {
   "cell_type": "code",
   "execution_count": 5,
   "id": "7e6a9e88",
   "metadata": {},
   "outputs": [
    {
     "name": "stdout",
     "output_type": "stream",
     "text": [
      "1 2 3\n"
     ]
    }
   ],
   "source": [
    "# Assign 3 numbers to 3 variables and print them\n",
    "a,b,c = 1,2,3\n",
    "print(a,b,c)"
   ]
  },
  {
   "cell_type": "markdown",
   "id": "f3a059c6",
   "metadata": {},
   "source": [
    "### None Value"
   ]
  },
  {
   "cell_type": "code",
   "execution_count": 6,
   "id": "fa502d24",
   "metadata": {},
   "outputs": [
    {
     "name": "stdout",
     "output_type": "stream",
     "text": [
      "None\n"
     ]
    }
   ],
   "source": [
    "a = None\n",
    "print(a)"
   ]
  },
  {
   "cell_type": "markdown",
   "id": "3081bc1b",
   "metadata": {},
   "source": [
    "## 2.2. Flow Control"
   ]
  },
  {
   "cell_type": "markdown",
   "id": "817a4bfc",
   "metadata": {},
   "source": [
    "Flow control is common to every programming language, so you already know what they do. The only thing you need to learn is the syntax."
   ]
  },
  {
   "cell_type": "markdown",
   "id": "369ca536",
   "metadata": {},
   "source": [
    "### If-else"
   ]
  },
  {
   "cell_type": "code",
   "execution_count": 7,
   "id": "fb747a61",
   "metadata": {},
   "outputs": [
    {
     "name": "stdout",
     "output_type": "stream",
     "text": [
      "That is fast\n"
     ]
    }
   ],
   "source": [
    "# Save a value and verify if its 99, greater tahn 200 and neither\n",
    "value = 99\n",
    "if value==99:\n",
    "    print('That is fast')\n",
    "elif value > 200:\n",
    "    print('That is too fast')\n",
    "else:\n",
    "    print('That is safe')"
   ]
  },
  {
   "cell_type": "code",
   "execution_count": null,
   "id": "009150b4",
   "metadata": {},
   "outputs": [],
   "source": []
  }
 ],
 "metadata": {
  "kernelspec": {
   "display_name": "Python 3 (ipykernel)",
   "language": "python",
   "name": "python3"
  },
  "language_info": {
   "codemirror_mode": {
    "name": "ipython",
    "version": 3
   },
   "file_extension": ".py",
   "mimetype": "text/x-python",
   "name": "python",
   "nbconvert_exporter": "python",
   "pygments_lexer": "ipython3",
   "version": "3.11.5"
  }
 },
 "nbformat": 4,
 "nbformat_minor": 5
}
